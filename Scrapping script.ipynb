{
 "cells": [
  {
   "cell_type": "code",
   "execution_count": null,
   "metadata": {},
   "outputs": [],
   "source": [
    "#importing the necessary libraries\n",
    "import requests, csv, pandas as pd, pprint, time\n",
    "from bs4 import BeautifulSoup\n",
    "import lxml,html5lib\n",
    "import re \n",
    "import time\n",
    "import numpy as np"
   ]
  },
  {
   "cell_type": "code",
   "execution_count": null,
   "metadata": {},
   "outputs": [],
   "source": [
    "#Script to get all ps4 title names from metacritic website\n",
    "\n",
    "def titles():\n",
    "    titles_list = []\n",
    "    for i in range(0,28):\n",
    "        url = 'https://www.metacritic.com/browse/games/release-date/available/ps4/metascore?page='+str(i)\n",
    "        #print(url)\n",
    "        userAgent = {'User-agent': 'Mozilla/5.0'}\n",
    "        response = requests.get(url, headers=userAgent)\n",
    "        req=requests.get(url,headers=userAgent)\n",
    "        content=req.text\n",
    "        print(\"Request \" + str(i) + \" made\")\n",
    "        \n",
    "        time.sleep(5) # To avoid blocking from website causing remote server to overload\n",
    "        games_list= []\n",
    "        soup=BeautifulSoup(content)\n",
    "        games_list = list(soup.find_all('a', {\"class\":\"title\"}))\n",
    "        for i in range(len(games_list)):\n",
    "            titles_list.append(str(games_list[i]).split('<h3>')[1].split('</h3>')[0])\n",
    "    #print(titles_list[-1])\n",
    "    return titles_list"
   ]
  },
  {
   "cell_type": "markdown",
   "metadata": {},
   "source": [
    "After getting the title names of all games we iterate through all the games and fetch the user reviews"
   ]
  },
  {
   "cell_type": "code",
   "execution_count": 1,
   "metadata": {},
   "outputs": [],
   "source": [
    "#Manual checking - this function was run manually 2000+ times due to easily debug issues.\n",
    "def scrape_reviews():\n",
    "    title_name = []\n",
    "    users_list = []\n",
    "    ratings_list = []\n",
    "    errors = []\n",
    "    for i in range(0,10):\n",
    "        url='https://www.metacritic.com/game/playstation-4/tony-hawks-pro-skater-5/user-reviews?page='+str(i)\n",
    "        userAgent = {'User-agent': 'Mozilla/5.0'}\n",
    "        req=requests.get(url,headers=userAgent)\n",
    "        content=req.text\n",
    "        print(\"Request \" + str(i) + \" made\")\n",
    "        #print(\"request made\")\n",
    "        time.sleep(5)\n",
    "        soup=BeautifulSoup(content)\n",
    "        title=list(soup.find_all('h1'))\n",
    "\n",
    "    \n",
    "        users = list(soup.find_all('a',text=re.compile(r'user')))\n",
    "        ratings = list(soup.find_all('div', {\"class\":re.compile(r'metascore_w user medium game')}))\n",
    "        if len(users) != len(ratings): # This condition is to check if data has been scraped properly at each iteration\n",
    "            errors.append(i)\n",
    "    for i in range(len(ratings)):\n",
    "        users_list.append(str(users[i]).split('\"')[1].split('\"')[0])\n",
    "        ratings_list.append(int(str(ratings[i]).split(\">\")[1].split('<')[0]))\n",
    "        title_name.append(str(title[0]).split('<h1>')[1].split('</h1>')[0])\n",
    "    print(len(users))\n",
    "    print(len(ratings))\n",
    "    return title_name, users_list, ratings_list"
   ]
  },
  {
   "cell_type": "code",
   "execution_count": null,
   "metadata": {},
   "outputs": [],
   "source": [
    "# This block of code appends new game reviews to the exisitng excel \n",
    "df = pd.read_excel('C:/Users/hdeok/Desktop/game_data/Game_ratings_PS4.xlsx',index_col=0)\n",
    "\n",
    "df1 = pd.DataFrame(users_list, columns=['Users'])\n",
    "df1['Game_name'] = title_name\n",
    "df1['user_rating'] = ratings_list \n",
    "\n",
    "df = df.append(df1)\n",
    "\n",
    "df = df.reset_index()\n",
    "df.drop(['index'],axis=1,inplace=True)\n",
    "df.to_excel('C:/Users/hdeok/Desktop/game_data/rating.xlsx') "
   ]
  }
 ],
 "metadata": {
  "kernelspec": {
   "display_name": "Python 3",
   "language": "python",
   "name": "python3"
  },
  "language_info": {
   "codemirror_mode": {
    "name": "ipython",
    "version": 3
   },
   "file_extension": ".py",
   "mimetype": "text/x-python",
   "name": "python",
   "nbconvert_exporter": "python",
   "pygments_lexer": "ipython3",
   "version": "3.8.5"
  }
 },
 "nbformat": 4,
 "nbformat_minor": 4
}
