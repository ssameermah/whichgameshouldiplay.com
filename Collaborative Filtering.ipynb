{
 "cells": [
  {
   "cell_type": "markdown",
   "metadata": {},
   "source": [
    "# Loading libraries and our csv file"
   ]
  },
  {
   "cell_type": "code",
   "execution_count": 1,
   "metadata": {
    "execution": {
     "iopub.execute_input": "2022-02-24T04:13:12.140548Z",
     "iopub.status.busy": "2022-02-24T04:13:12.140016Z",
     "iopub.status.idle": "2022-02-24T04:13:15.164923Z",
     "shell.execute_reply": "2022-02-24T04:13:15.163927Z",
     "shell.execute_reply.started": "2022-02-24T04:13:12.140442Z"
    }
   },
   "outputs": [],
   "source": [
    "import warnings\n",
    "warnings.filterwarnings('ignore')\n",
    "import numpy as np\n",
    "import pandas as pd\n",
    "import pandas_profiling \n",
    "import matplotlib.pyplot as plt\n",
    "import seaborn as sns\n",
    "sns.set_color_codes()\n",
    "sns.set(style=\"whitegrid\")\n",
    "%matplotlib inline\n",
    "from scipy.stats import zscore\n",
    "from sklearn import metrics\n",
    "from sklearn.model_selection import train_test_split as sk_train_test\n",
    "from sklearn.model_selection import KFold\n",
    "from sklearn.model_selection import cross_val_score\n",
    "from sklearn.decomposition import PCA\n",
    "from sklearn.preprocessing import StandardScaler\n",
    "from sklearn.metrics import mean_squared_error\n",
    "from math import sqrt\n",
    "import math\n",
    "from surprise import SVD, KNNBasic, KNNWithMeans, CoClustering, SVDpp, NMF, KNNWithZScore,SlopeOne\n",
    "from surprise import Dataset, Reader, accuracy\n",
    "from surprise.model_selection import cross_validate\n",
    "from surprise.model_selection import train_test_split\n",
    "from surprise.model_selection import RandomizedSearchCV\n",
    "from surprise.model_selection import GridSearchCV\n",
    "\n",
    "df = pd.read_csv('../input/video-game-recommendation-csv/Game_ratings_PS4.csv',index_col=0)"
   ]
  },
  {
   "cell_type": "code",
   "execution_count": 2,
   "metadata": {
    "execution": {
     "iopub.execute_input": "2022-02-24T04:13:15.166554Z",
     "iopub.status.busy": "2022-02-24T04:13:15.166320Z",
     "iopub.status.idle": "2022-02-24T04:13:15.182392Z",
     "shell.execute_reply": "2022-02-24T04:13:15.181281Z",
     "shell.execute_reply.started": "2022-02-24T04:13:15.166527Z"
    }
   },
   "outputs": [
    {
     "data": {
      "text/html": [
       "<div>\n",
       "<style scoped>\n",
       "    .dataframe tbody tr th:only-of-type {\n",
       "        vertical-align: middle;\n",
       "    }\n",
       "\n",
       "    .dataframe tbody tr th {\n",
       "        vertical-align: top;\n",
       "    }\n",
       "\n",
       "    .dataframe thead th {\n",
       "        text-align: right;\n",
       "    }\n",
       "</style>\n",
       "<table border=\"1\" class=\"dataframe\">\n",
       "  <thead>\n",
       "    <tr style=\"text-align: right;\">\n",
       "      <th></th>\n",
       "      <th>Users</th>\n",
       "      <th>Game_name</th>\n",
       "      <th>user_rating</th>\n",
       "    </tr>\n",
       "  </thead>\n",
       "  <tbody>\n",
       "    <tr>\n",
       "      <th>0</th>\n",
       "      <td>/user/OVLange</td>\n",
       "      <td>Red Dead Redemption 2</td>\n",
       "      <td>10</td>\n",
       "    </tr>\n",
       "    <tr>\n",
       "      <th>1</th>\n",
       "      <td>/user/MisterLupus</td>\n",
       "      <td>Red Dead Redemption 2</td>\n",
       "      <td>7</td>\n",
       "    </tr>\n",
       "    <tr>\n",
       "      <th>2</th>\n",
       "      <td>/user/thehoneyman</td>\n",
       "      <td>Red Dead Redemption 2</td>\n",
       "      <td>7</td>\n",
       "    </tr>\n",
       "    <tr>\n",
       "      <th>3</th>\n",
       "      <td>/user/Yozakura</td>\n",
       "      <td>Red Dead Redemption 2</td>\n",
       "      <td>6</td>\n",
       "    </tr>\n",
       "    <tr>\n",
       "      <th>4</th>\n",
       "      <td>/user/colinsmall34</td>\n",
       "      <td>Red Dead Redemption 2</td>\n",
       "      <td>7</td>\n",
       "    </tr>\n",
       "  </tbody>\n",
       "</table>\n",
       "</div>"
      ],
      "text/plain": [
       "                Users              Game_name  user_rating\n",
       "0       /user/OVLange  Red Dead Redemption 2           10\n",
       "1   /user/MisterLupus  Red Dead Redemption 2            7\n",
       "2   /user/thehoneyman  Red Dead Redemption 2            7\n",
       "3      /user/Yozakura  Red Dead Redemption 2            6\n",
       "4  /user/colinsmall34  Red Dead Redemption 2            7"
      ]
     },
     "execution_count": 2,
     "metadata": {},
     "output_type": "execute_result"
    }
   ],
   "source": [
    "#checking if our data loaded correctly\n",
    "df.head()"
   ]
  },
  {
   "cell_type": "markdown",
   "metadata": {},
   "source": [
    "Attributes:\n",
    "\n",
    "Users : Every user identified with a unique id\n",
    "\n",
    "Game_name : Every game identified with a unique id\n",
    "\n",
    "user_rating : Rating of the corresponding game by the corresponding user"
   ]
  },
  {
   "cell_type": "markdown",
   "metadata": {},
   "source": [
    "# EDA of the data"
   ]
  },
  {
   "cell_type": "code",
   "execution_count": 3,
   "metadata": {
    "execution": {
     "iopub.execute_input": "2022-02-24T04:13:15.184241Z",
     "iopub.status.busy": "2022-02-24T04:13:15.183605Z",
     "iopub.status.idle": "2022-02-24T04:13:15.513075Z",
     "shell.execute_reply": "2022-02-24T04:13:15.512254Z",
     "shell.execute_reply.started": "2022-02-24T04:13:15.184181Z"
    }
   },
   "outputs": [],
   "source": [
    "#code to only fetch users who have 5 and above ratings.\n",
    "game_groupby_users_Ratings = df.groupby('Users')['user_rating']\n",
    "game_groupby_users_Ratings = pd.DataFrame(game_groupby_users_Ratings.count())"
   ]
  },
  {
   "cell_type": "code",
   "execution_count": 4,
   "metadata": {
    "execution": {
     "iopub.execute_input": "2022-02-24T04:13:15.515128Z",
     "iopub.status.busy": "2022-02-24T04:13:15.514849Z",
     "iopub.status.idle": "2022-02-24T04:13:15.559117Z",
     "shell.execute_reply": "2022-02-24T04:13:15.558192Z",
     "shell.execute_reply.started": "2022-02-24T04:13:15.515099Z"
    }
   },
   "outputs": [],
   "source": [
    "user_list_min50_ratings = game_groupby_users_Ratings[game_groupby_users_Ratings['user_rating'] > 4].index\n",
    "df_games =  df[df['Users'].isin(user_list_min50_ratings)]"
   ]
  },
  {
   "cell_type": "code",
   "execution_count": 5,
   "metadata": {
    "execution": {
     "iopub.execute_input": "2022-02-24T04:13:15.560557Z",
     "iopub.status.busy": "2022-02-24T04:13:15.560325Z",
     "iopub.status.idle": "2022-02-24T04:13:15.565930Z",
     "shell.execute_reply": "2022-02-24T04:13:15.565068Z",
     "shell.execute_reply.started": "2022-02-24T04:13:15.560532Z"
    }
   },
   "outputs": [
    {
     "name": "stdout",
     "output_type": "stream",
     "text": [
      "The total number of rows : 58384\n",
      "The total number of columns : 3\n"
     ]
    }
   ],
   "source": [
    "#checking the dimension of our data.\n",
    "print('The total number of rows :', df_games.shape[0])\n",
    "print('The total number of columns :', df_games.shape[1])"
   ]
  },
  {
   "cell_type": "markdown",
   "metadata": {},
   "source": [
    "1. Data type of each attribute"
   ]
  },
  {
   "cell_type": "code",
   "execution_count": 6,
   "metadata": {
    "execution": {
     "iopub.execute_input": "2022-02-24T04:13:15.567604Z",
     "iopub.status.busy": "2022-02-24T04:13:15.567318Z",
     "iopub.status.idle": "2022-02-24T04:13:15.592312Z",
     "shell.execute_reply": "2022-02-24T04:13:15.591394Z",
     "shell.execute_reply.started": "2022-02-24T04:13:15.567558Z"
    }
   },
   "outputs": [
    {
     "name": "stdout",
     "output_type": "stream",
     "text": [
      "<class 'pandas.core.frame.DataFrame'>\n",
      "Int64Index: 58384 entries, 4 to 258562\n",
      "Data columns (total 3 columns):\n",
      " #   Column       Non-Null Count  Dtype \n",
      "---  ------       --------------  ----- \n",
      " 0   Users        58384 non-null  object\n",
      " 1   Game_name    58384 non-null  object\n",
      " 2   user_rating  58384 non-null  int64 \n",
      "dtypes: int64(1), object(2)\n",
      "memory usage: 1.8+ MB\n"
     ]
    }
   ],
   "source": [
    "df_games.info()"
   ]
  },
  {
   "cell_type": "markdown",
   "metadata": {},
   "source": [
    "2. Checking for missing values"
   ]
  },
  {
   "cell_type": "code",
   "execution_count": 7,
   "metadata": {
    "execution": {
     "iopub.execute_input": "2022-02-24T04:13:15.594534Z",
     "iopub.status.busy": "2022-02-24T04:13:15.593964Z",
     "iopub.status.idle": "2022-02-24T04:13:15.610101Z",
     "shell.execute_reply": "2022-02-24T04:13:15.609155Z",
     "shell.execute_reply.started": "2022-02-24T04:13:15.594491Z"
    }
   },
   "outputs": [
    {
     "data": {
      "text/plain": [
       "Users          0\n",
       "Game_name      0\n",
       "user_rating    0\n",
       "dtype: int64"
      ]
     },
     "metadata": {},
     "output_type": "display_data"
    }
   ],
   "source": [
    "#printing missing values\n",
    "display(df_games.isna().sum().sort_values())"
   ]
  },
  {
   "cell_type": "markdown",
   "metadata": {},
   "source": [
    "Seems our data does not have any missing values."
   ]
  },
  {
   "cell_type": "markdown",
   "metadata": {},
   "source": [
    "3. Five point summary of numerical attributes"
   ]
  },
  {
   "cell_type": "code",
   "execution_count": 8,
   "metadata": {
    "execution": {
     "iopub.execute_input": "2022-02-24T04:13:15.611813Z",
     "iopub.status.busy": "2022-02-24T04:13:15.611452Z",
     "iopub.status.idle": "2022-02-24T04:13:15.634831Z",
     "shell.execute_reply": "2022-02-24T04:13:15.633926Z",
     "shell.execute_reply.started": "2022-02-24T04:13:15.611772Z"
    }
   },
   "outputs": [
    {
     "data": {
      "text/html": [
       "<div>\n",
       "<style scoped>\n",
       "    .dataframe tbody tr th:only-of-type {\n",
       "        vertical-align: middle;\n",
       "    }\n",
       "\n",
       "    .dataframe tbody tr th {\n",
       "        vertical-align: top;\n",
       "    }\n",
       "\n",
       "    .dataframe thead th {\n",
       "        text-align: right;\n",
       "    }\n",
       "</style>\n",
       "<table border=\"1\" class=\"dataframe\">\n",
       "  <thead>\n",
       "    <tr style=\"text-align: right;\">\n",
       "      <th></th>\n",
       "      <th>count</th>\n",
       "      <th>mean</th>\n",
       "      <th>std</th>\n",
       "      <th>min</th>\n",
       "      <th>25%</th>\n",
       "      <th>50%</th>\n",
       "      <th>75%</th>\n",
       "      <th>max</th>\n",
       "    </tr>\n",
       "  </thead>\n",
       "  <tbody>\n",
       "    <tr>\n",
       "      <th>user_rating</th>\n",
       "      <td>58384.0</td>\n",
       "      <td>7.11659</td>\n",
       "      <td>2.97285</td>\n",
       "      <td>0.0</td>\n",
       "      <td>6.0</td>\n",
       "      <td>8.0</td>\n",
       "      <td>9.0</td>\n",
       "      <td>10.0</td>\n",
       "    </tr>\n",
       "  </tbody>\n",
       "</table>\n",
       "</div>"
      ],
      "text/plain": [
       "               count     mean      std  min  25%  50%  75%   max\n",
       "user_rating  58384.0  7.11659  2.97285  0.0  6.0  8.0  9.0  10.0"
      ]
     },
     "metadata": {},
     "output_type": "display_data"
    }
   ],
   "source": [
    "#5 point summary\n",
    "display(df_games[['user_rating']].describe().transpose())"
   ]
  },
  {
   "cell_type": "markdown",
   "metadata": {},
   "source": [
    "As we can see from the above output, seems that the game reviews we scraped has a mean of 7.11 . It shows our data has a good combination of both positive and negative reviews."
   ]
  },
  {
   "cell_type": "markdown",
   "metadata": {},
   "source": [
    "4. Unique Users and Products Count"
   ]
  },
  {
   "cell_type": "code",
   "execution_count": 9,
   "metadata": {
    "execution": {
     "iopub.execute_input": "2022-02-24T04:13:15.639403Z",
     "iopub.status.busy": "2022-02-24T04:13:15.636296Z",
     "iopub.status.idle": "2022-02-24T04:13:15.656530Z",
     "shell.execute_reply": "2022-02-24T04:13:15.655665Z",
     "shell.execute_reply.started": "2022-02-24T04:13:15.639363Z"
    }
   },
   "outputs": [
    {
     "name": "stdout",
     "output_type": "stream",
     "text": [
      "Total unique users in the dataset 5482\n",
      "Total unique products in the dataset 2034\n"
     ]
    }
   ],
   "source": [
    "print('Total unique users in the dataset', df_games['Users'].nunique())\n",
    "print('Total unique products in the dataset', df_games['Game_name'].nunique())"
   ]
  },
  {
   "cell_type": "markdown",
   "metadata": {},
   "source": [
    "# Data Visualization and Analysis"
   ]
  },
  {
   "cell_type": "markdown",
   "metadata": {},
   "source": [
    "1. Game Rating Distribution"
   ]
  },
  {
   "cell_type": "code",
   "execution_count": 10,
   "metadata": {
    "execution": {
     "iopub.execute_input": "2022-02-24T04:13:15.659515Z",
     "iopub.status.busy": "2022-02-24T04:13:15.659291Z",
     "iopub.status.idle": "2022-02-24T04:13:16.344835Z",
     "shell.execute_reply": "2022-02-24T04:13:16.343822Z",
     "shell.execute_reply.started": "2022-02-24T04:13:15.659490Z"
    }
   },
   "outputs": [
    {
     "data": {
      "text/plain": [
       "<AxesSubplot:xlabel='user_rating', ylabel='Density'>"
      ]
     },
     "execution_count": 10,
     "metadata": {},
     "output_type": "execute_result"
    },
    {
     "data": {
      "image/png": "[encoded data removed]",
      "text/plain": [
       "<Figure size 1080x1080 with 1 Axes>"
      ]
     },
     "metadata": {
      "needs_background": "light"
     },
     "output_type": "display_data"
    }
   ],
   "source": [
    "plt.figure(figsize=(15,15))\n",
    "sns.distplot(df_games['user_rating'])"
   ]
  },
  {
   "cell_type": "markdown",
   "metadata": {},
   "source": [
    "From the ratings plot we can see than more users do rate games the in the range of 8-10 , with 10 having the highest probability distribution from the distplot above."
   ]
  },
  {
   "cell_type": "code",
   "execution_count": 11,
   "metadata": {
    "execution": {
     "iopub.execute_input": "2022-02-24T04:13:16.346120Z",
     "iopub.status.busy": "2022-02-24T04:13:16.345904Z",
     "iopub.status.idle": "2022-02-24T04:13:16.728743Z",
     "shell.execute_reply": "2022-02-24T04:13:16.727917Z",
     "shell.execute_reply.started": "2022-02-24T04:13:16.346093Z"
    }
   },
   "outputs": [
    {
     "data": {
      "text/plain": [
       "<AxesSubplot:xlabel='user_rating'>"
      ]
     },
     "execution_count": 11,
     "metadata": {},
     "output_type": "execute_result"
    },
    {
     "data": {
      "image/png": "[encoded data removed]",
      "text/plain": [
       "<Figure size 1080x1080 with 1 Axes>"
      ]
     },
     "metadata": {
      "needs_background": "light"
     },
     "output_type": "display_data"
    }
   ],
   "source": [
    "plt.figure(figsize=(15,15))\n",
    "sns.distplot(df_games['user_rating'], kde=False)"
   ]
  },
  {
   "cell_type": "markdown",
   "metadata": {},
   "source": [
    "The above plot gives a numerical value of number of ratings for games, we see that for ratings betweeen 8-10 more than 34000 ratings which is about 58% of our data."
   ]
  },
  {
   "cell_type": "markdown",
   "metadata": {},
   "source": [
    "Rating counts based by games"
   ]
  },
  {
   "cell_type": "code",
   "execution_count": 12,
   "metadata": {
    "execution": {
     "iopub.execute_input": "2022-02-24T04:13:16.730938Z",
     "iopub.status.busy": "2022-02-24T04:13:16.730341Z",
     "iopub.status.idle": "2022-02-24T04:13:16.746632Z",
     "shell.execute_reply": "2022-02-24T04:13:16.745563Z",
     "shell.execute_reply.started": "2022-02-24T04:13:16.730888Z"
    }
   },
   "outputs": [],
   "source": [
    "#grouping games on ratings\n",
    "df_groupby_game_Ratings = df_games.groupby('Game_name')['user_rating']\n",
    "#doing the unique count\n",
    "df_groupby_game_Ratings.count().unique()\n",
    "\n",
    "ratings_games = pd.DataFrame(df_groupby_game_Ratings.count())\n",
    "ratings_games.rename(columns={\"user_rating\": \"rating_counts\"}, inplace=True)"
   ]
  },
  {
   "cell_type": "code",
   "execution_count": 13,
   "metadata": {
    "execution": {
     "iopub.execute_input": "2022-02-24T04:13:16.749429Z",
     "iopub.status.busy": "2022-02-24T04:13:16.749129Z",
     "iopub.status.idle": "2022-02-24T04:13:16.761582Z",
     "shell.execute_reply": "2022-02-24T04:13:16.759775Z",
     "shell.execute_reply.started": "2022-02-24T04:13:16.749400Z"
    }
   },
   "outputs": [
    {
     "data": {
      "text/html": [
       "<div>\n",
       "<style scoped>\n",
       "    .dataframe tbody tr th:only-of-type {\n",
       "        vertical-align: middle;\n",
       "    }\n",
       "\n",
       "    .dataframe tbody tr th {\n",
       "        vertical-align: top;\n",
       "    }\n",
       "\n",
       "    .dataframe thead th {\n",
       "        text-align: right;\n",
       "    }\n",
       "</style>\n",
       "<table border=\"1\" class=\"dataframe\">\n",
       "  <thead>\n",
       "    <tr style=\"text-align: right;\">\n",
       "      <th></th>\n",
       "      <th>rating_counts</th>\n",
       "    </tr>\n",
       "    <tr>\n",
       "      <th>Game_name</th>\n",
       "      <th></th>\n",
       "    </tr>\n",
       "  </thead>\n",
       "  <tbody>\n",
       "    <tr>\n",
       "      <th>The Last of Us Part II</th>\n",
       "      <td>1965</td>\n",
       "    </tr>\n",
       "    <tr>\n",
       "      <th>God of War</th>\n",
       "      <td>1202</td>\n",
       "    </tr>\n",
       "    <tr>\n",
       "      <th>The Last of Us Remastered</th>\n",
       "      <td>1059</td>\n",
       "    </tr>\n",
       "    <tr>\n",
       "      <th>Ghost of Tsushima</th>\n",
       "      <td>1053</td>\n",
       "    </tr>\n",
       "    <tr>\n",
       "      <th>Fallout 4</th>\n",
       "      <td>1030</td>\n",
       "    </tr>\n",
       "    <tr>\n",
       "      <th>Red Dead Redemption 2</th>\n",
       "      <td>984</td>\n",
       "    </tr>\n",
       "    <tr>\n",
       "      <th>Uncharted 4: A Thief's End</th>\n",
       "      <td>962</td>\n",
       "    </tr>\n",
       "    <tr>\n",
       "      <th>Horizon Zero Dawn</th>\n",
       "      <td>959</td>\n",
       "    </tr>\n",
       "    <tr>\n",
       "      <th>Bloodborne</th>\n",
       "      <td>792</td>\n",
       "    </tr>\n",
       "    <tr>\n",
       "      <th>Marvel's Spider-Man</th>\n",
       "      <td>777</td>\n",
       "    </tr>\n",
       "    <tr>\n",
       "      <th>The Witcher 3: Wild Hunt</th>\n",
       "      <td>773</td>\n",
       "    </tr>\n",
       "    <tr>\n",
       "      <th>Days Gone</th>\n",
       "      <td>725</td>\n",
       "    </tr>\n",
       "    <tr>\n",
       "      <th>Final Fantasy VII Remake</th>\n",
       "      <td>551</td>\n",
       "    </tr>\n",
       "    <tr>\n",
       "      <th>Control</th>\n",
       "      <td>533</td>\n",
       "    </tr>\n",
       "    <tr>\n",
       "      <th>Cyberpunk 2077</th>\n",
       "      <td>459</td>\n",
       "    </tr>\n",
       "    <tr>\n",
       "      <th>Detroit: Become Human</th>\n",
       "      <td>451</td>\n",
       "    </tr>\n",
       "    <tr>\n",
       "      <th>Grand Theft Auto V</th>\n",
       "      <td>430</td>\n",
       "    </tr>\n",
       "    <tr>\n",
       "      <th>Metal Gear Solid V: The Phantom Pain</th>\n",
       "      <td>427</td>\n",
       "    </tr>\n",
       "    <tr>\n",
       "      <th>The Order: 1886</th>\n",
       "      <td>392</td>\n",
       "    </tr>\n",
       "    <tr>\n",
       "      <th>Star Wars Battlefront II</th>\n",
       "      <td>389</td>\n",
       "    </tr>\n",
       "  </tbody>\n",
       "</table>\n",
       "</div>"
      ],
      "text/plain": [
       "                                      rating_counts\n",
       "Game_name                                          \n",
       "The Last of Us Part II                         1965\n",
       "God of War                                     1202\n",
       "The Last of Us Remastered                      1059\n",
       "Ghost of Tsushima                              1053\n",
       "Fallout 4                                      1030\n",
       "Red Dead Redemption 2                           984\n",
       "Uncharted 4: A Thief's End                      962\n",
       "Horizon Zero Dawn                               959\n",
       "Bloodborne                                      792\n",
       "Marvel's Spider-Man                             777\n",
       "The Witcher 3: Wild Hunt                        773\n",
       "Days Gone                                       725\n",
       "Final Fantasy VII Remake                        551\n",
       "Control                                         533\n",
       "Cyberpunk 2077                                  459\n",
       "Detroit: Become Human                           451\n",
       "Grand Theft Auto V                              430\n",
       "Metal Gear Solid V: The Phantom Pain            427\n",
       "The Order: 1886                                 392\n",
       "Star Wars Battlefront II                        389"
      ]
     },
     "execution_count": 13,
     "metadata": {},
     "output_type": "execute_result"
    }
   ],
   "source": [
    "ratings_games.sort_values(by='rating_counts',ascending=False)[:20]"
   ]
  },
  {
   "cell_type": "code",
   "execution_count": 14,
   "metadata": {
    "execution": {
     "iopub.execute_input": "2022-02-24T04:13:16.763409Z",
     "iopub.status.busy": "2022-02-24T04:13:16.762593Z",
     "iopub.status.idle": "2022-02-24T04:13:16.778563Z",
     "shell.execute_reply": "2022-02-24T04:13:16.777826Z",
     "shell.execute_reply.started": "2022-02-24T04:13:16.763376Z"
    }
   },
   "outputs": [],
   "source": [
    "#to understand the above plot much easier we can clip it in such a way that games above 100 can be counted as one category\n",
    "\n",
    "#grouping games on ratings\n",
    "df_groupby_game_Ratings = df_games.groupby('Game_name')['user_rating']\n",
    "#doing the unique count\n",
    "df_groupby_game_Ratings.count().clip(upper=100).unique()\n",
    "\n",
    "ratings_games = pd.DataFrame(df_groupby_game_Ratings.count().clip(upper=100))\n",
    "ratings_games.rename(columns={\"user_rating\": \"rating_counts\"}, inplace=True)"
   ]
  },
  {
   "cell_type": "code",
   "execution_count": 15,
   "metadata": {
    "execution": {
     "iopub.execute_input": "2022-02-24T04:13:16.780009Z",
     "iopub.status.busy": "2022-02-24T04:13:16.779633Z",
     "iopub.status.idle": "2022-02-24T04:13:17.082813Z",
     "shell.execute_reply": "2022-02-24T04:13:17.081896Z",
     "shell.execute_reply.started": "2022-02-24T04:13:16.779979Z"
    }
   },
   "outputs": [
    {
     "data": {
      "text/plain": [
       "<AxesSubplot:xlabel='rating_counts'>"
      ]
     },
     "execution_count": 15,
     "metadata": {},
     "output_type": "execute_result"
    },
    {
     "data": {
      "image/png": "[encoded data removed]",
      "text/plain": [
       "<Figure size 1080x1080 with 1 Axes>"
      ]
     },
     "metadata": {
      "needs_background": "light"
     },
     "output_type": "display_data"
    }
   ],
   "source": [
    "#Plot for number of times games were rated how many times\n",
    "plt.figure(figsize=(15,15))\n",
    "sns.distplot(ratings_games['rating_counts'], kde=False)"
   ]
  },
  {
   "cell_type": "markdown",
   "metadata": {},
   "source": [
    "From the above we can see from the above an overwhelming number of games were only rated once. Quite a few games were rated 100 or more times as well."
   ]
  },
  {
   "cell_type": "markdown",
   "metadata": {},
   "source": [
    "Game Rating Counts grouped by Users"
   ]
  },
  {
   "cell_type": "code",
   "execution_count": 16,
   "metadata": {
    "execution": {
     "iopub.execute_input": "2022-02-24T04:13:17.084533Z",
     "iopub.status.busy": "2022-02-24T04:13:17.084230Z",
     "iopub.status.idle": "2022-02-24T04:13:17.108373Z",
     "shell.execute_reply": "2022-02-24T04:13:17.107381Z",
     "shell.execute_reply.started": "2022-02-24T04:13:17.084492Z"
    }
   },
   "outputs": [],
   "source": [
    "#grouping games on ratings\n",
    "df_groupby_user_Ratings = df_games.groupby('Users')['user_rating']\n",
    "#doing the unique count\n",
    "df_groupby_user_Ratings.count().unique()\n",
    "\n",
    "ratings_user = pd.DataFrame(df_groupby_user_Ratings.count())\n",
    "ratings_user.rename(columns={\"user_rating\": \"rating_counts\"}, inplace=True)"
   ]
  },
  {
   "cell_type": "code",
   "execution_count": 17,
   "metadata": {
    "execution": {
     "iopub.execute_input": "2022-02-24T04:13:17.109747Z",
     "iopub.status.busy": "2022-02-24T04:13:17.109536Z",
     "iopub.status.idle": "2022-02-24T04:13:17.122317Z",
     "shell.execute_reply": "2022-02-24T04:13:17.121039Z",
     "shell.execute_reply.started": "2022-02-24T04:13:17.109722Z"
    }
   },
   "outputs": [
    {
     "data": {
      "text/html": [
       "<div>\n",
       "<style scoped>\n",
       "    .dataframe tbody tr th:only-of-type {\n",
       "        vertical-align: middle;\n",
       "    }\n",
       "\n",
       "    .dataframe tbody tr th {\n",
       "        vertical-align: top;\n",
       "    }\n",
       "\n",
       "    .dataframe thead th {\n",
       "        text-align: right;\n",
       "    }\n",
       "</style>\n",
       "<table border=\"1\" class=\"dataframe\">\n",
       "  <thead>\n",
       "    <tr style=\"text-align: right;\">\n",
       "      <th></th>\n",
       "      <th>rating_counts</th>\n",
       "    </tr>\n",
       "    <tr>\n",
       "      <th>Users</th>\n",
       "      <th></th>\n",
       "    </tr>\n",
       "  </thead>\n",
       "  <tbody>\n",
       "    <tr>\n",
       "      <th>/user/SuperkenGaming</th>\n",
       "      <td>390</td>\n",
       "    </tr>\n",
       "    <tr>\n",
       "      <th>/user/Nel</th>\n",
       "      <td>209</td>\n",
       "    </tr>\n",
       "    <tr>\n",
       "      <th>/user/drlowdon</th>\n",
       "      <td>171</td>\n",
       "    </tr>\n",
       "    <tr>\n",
       "      <th>/user/Steyraus</th>\n",
       "      <td>163</td>\n",
       "    </tr>\n",
       "    <tr>\n",
       "      <th>/user/SplitMind</th>\n",
       "      <td>127</td>\n",
       "    </tr>\n",
       "    <tr>\n",
       "      <th>/user/CoreGamer1408</th>\n",
       "      <td>126</td>\n",
       "    </tr>\n",
       "    <tr>\n",
       "      <th>/user/njja02</th>\n",
       "      <td>122</td>\n",
       "    </tr>\n",
       "    <tr>\n",
       "      <th>/user/KayVen17</th>\n",
       "      <td>118</td>\n",
       "    </tr>\n",
       "    <tr>\n",
       "      <th>/user/wesker2012</th>\n",
       "      <td>106</td>\n",
       "    </tr>\n",
       "    <tr>\n",
       "      <th>/user/Turbodowg</th>\n",
       "      <td>104</td>\n",
       "    </tr>\n",
       "    <tr>\n",
       "      <th>/user/TatsMcGee</th>\n",
       "      <td>103</td>\n",
       "    </tr>\n",
       "    <tr>\n",
       "      <th>/user/sityoazzdown</th>\n",
       "      <td>103</td>\n",
       "    </tr>\n",
       "    <tr>\n",
       "      <th>/user/FriedConsole</th>\n",
       "      <td>103</td>\n",
       "    </tr>\n",
       "    <tr>\n",
       "      <th>/user/MaxPayneIsGod</th>\n",
       "      <td>97</td>\n",
       "    </tr>\n",
       "    <tr>\n",
       "      <th>/user/alexslork</th>\n",
       "      <td>97</td>\n",
       "    </tr>\n",
       "    <tr>\n",
       "      <th>/user/destinyfan1</th>\n",
       "      <td>96</td>\n",
       "    </tr>\n",
       "    <tr>\n",
       "      <th>/user/tomvs123</th>\n",
       "      <td>94</td>\n",
       "    </tr>\n",
       "    <tr>\n",
       "      <th>/user/GrumpyReviewer</th>\n",
       "      <td>93</td>\n",
       "    </tr>\n",
       "    <tr>\n",
       "      <th>/user/badgerryan19</th>\n",
       "      <td>92</td>\n",
       "    </tr>\n",
       "    <tr>\n",
       "      <th>/user/GabFire</th>\n",
       "      <td>91</td>\n",
       "    </tr>\n",
       "  </tbody>\n",
       "</table>\n",
       "</div>"
      ],
      "text/plain": [
       "                      rating_counts\n",
       "Users                              \n",
       "/user/SuperkenGaming            390\n",
       "/user/Nel                       209\n",
       "/user/drlowdon                  171\n",
       "/user/Steyraus                  163\n",
       "/user/SplitMind                 127\n",
       "/user/CoreGamer1408             126\n",
       "/user/njja02                    122\n",
       "/user/KayVen17                  118\n",
       "/user/wesker2012                106\n",
       "/user/Turbodowg                 104\n",
       "/user/TatsMcGee                 103\n",
       "/user/sityoazzdown              103\n",
       "/user/FriedConsole              103\n",
       "/user/MaxPayneIsGod              97\n",
       "/user/alexslork                  97\n",
       "/user/destinyfan1                96\n",
       "/user/tomvs123                   94\n",
       "/user/GrumpyReviewer             93\n",
       "/user/badgerryan19               92\n",
       "/user/GabFire                    91"
      ]
     },
     "execution_count": 17,
     "metadata": {},
     "output_type": "execute_result"
    }
   ],
   "source": [
    "ratings_user.sort_values(by='rating_counts',ascending=False)[:20]"
   ]
  },
  {
   "cell_type": "code",
   "execution_count": 18,
   "metadata": {
    "execution": {
     "iopub.execute_input": "2022-02-24T04:13:17.125235Z",
     "iopub.status.busy": "2022-02-24T04:13:17.124902Z",
     "iopub.status.idle": "2022-02-24T04:13:17.150066Z",
     "shell.execute_reply": "2022-02-24T04:13:17.149434Z",
     "shell.execute_reply.started": "2022-02-24T04:13:17.125179Z"
    }
   },
   "outputs": [],
   "source": [
    "#to understand the above plot much easier we can clip it in such a way that games above 100 can be counted as one category\n",
    "#grouping games on ratings\n",
    "df_groupby_user_Ratings = df_games.groupby('Users')['user_rating']\n",
    "#doing the unique count\n",
    "df_groupby_user_Ratings.count().clip(upper=100).unique()\n",
    "\n",
    "ratings_user = pd.DataFrame(df_groupby_user_Ratings.count()).clip(upper=100)\n",
    "ratings_user.rename(columns={\"user_rating\": \"rating_counts\"}, inplace=True)"
   ]
  },
  {
   "cell_type": "code",
   "execution_count": 19,
   "metadata": {
    "execution": {
     "iopub.execute_input": "2022-02-24T04:13:17.153552Z",
     "iopub.status.busy": "2022-02-24T04:13:17.153302Z",
     "iopub.status.idle": "2022-02-24T04:13:17.465085Z",
     "shell.execute_reply": "2022-02-24T04:13:17.464400Z",
     "shell.execute_reply.started": "2022-02-24T04:13:17.153524Z"
    }
   },
   "outputs": [
    {
     "data": {
      "text/plain": [
       "<AxesSubplot:xlabel='rating_counts'>"
      ]
     },
     "execution_count": 19,
     "metadata": {},
     "output_type": "execute_result"
    },
    {
     "data": {
      "image/png": "[encoded data removed]",
      "text/plain": [
       "<Figure size 1080x1080 with 1 Axes>"
      ]
     },
     "metadata": {
      "needs_background": "light"
     },
     "output_type": "display_data"
    }
   ],
   "source": [
    "plt.figure(figsize=(15,15))\n",
    "sns.distplot(ratings_user['rating_counts'],kde=False)"
   ]
  },
  {
   "cell_type": "markdown",
   "metadata": {},
   "source": [
    "As we can from this plot, most users have 4 reviews, and decreases as the rating counts increases. \n",
    "The dataframe also gives details on users ratings counts in descending order."
   ]
  },
  {
   "cell_type": "markdown",
   "metadata": {},
   "source": [
    "Mean Rating Distribution grouped by Games"
   ]
  },
  {
   "cell_type": "code",
   "execution_count": 20,
   "metadata": {
    "execution": {
     "iopub.execute_input": "2022-02-24T04:13:17.467035Z",
     "iopub.status.busy": "2022-02-24T04:13:17.466713Z",
     "iopub.status.idle": "2022-02-24T04:13:17.489240Z",
     "shell.execute_reply": "2022-02-24T04:13:17.486243Z",
     "shell.execute_reply.started": "2022-02-24T04:13:17.466992Z"
    }
   },
   "outputs": [],
   "source": [
    "ratings = pd.DataFrame(df_games.groupby('Game_name')['user_rating'].mean())\n",
    "ratings.rename(columns={\"user_rating\": \"rating_mean\"}, inplace=True)"
   ]
  },
  {
   "cell_type": "code",
   "execution_count": 21,
   "metadata": {
    "execution": {
     "iopub.execute_input": "2022-02-24T04:13:17.494154Z",
     "iopub.status.busy": "2022-02-24T04:13:17.493148Z",
     "iopub.status.idle": "2022-02-24T04:13:17.774419Z",
     "shell.execute_reply": "2022-02-24T04:13:17.773378Z",
     "shell.execute_reply.started": "2022-02-24T04:13:17.494103Z"
    }
   },
   "outputs": [
    {
     "data": {
      "text/plain": [
       "<AxesSubplot:xlabel='rating_mean'>"
      ]
     },
     "execution_count": 21,
     "metadata": {},
     "output_type": "execute_result"
    },
    {
     "data": {
      "image/png": "[encoded data removed]",
      "text/plain": [
       "<Figure size 1080x1080 with 1 Axes>"
      ]
     },
     "metadata": {
      "needs_background": "light"
     },
     "output_type": "display_data"
    }
   ],
   "source": [
    "plt.figure(figsize=(15,15))\n",
    "sns.distplot(ratings['rating_mean'],kde=False)"
   ]
  },
  {
   "cell_type": "markdown",
   "metadata": {},
   "source": [
    "This is a mean rating distribution grouped by all the games.\n",
    "\n",
    "As it can been seen from the plot, there are many games which were given a Rating between 6 or 8."
   ]
  },
  {
   "cell_type": "markdown",
   "metadata": {},
   "source": [
    "Mean Rating Distribution grouped by Users"
   ]
  },
  {
   "cell_type": "code",
   "execution_count": 22,
   "metadata": {
    "execution": {
     "iopub.execute_input": "2022-02-24T04:13:17.777299Z",
     "iopub.status.busy": "2022-02-24T04:13:17.776854Z",
     "iopub.status.idle": "2022-02-24T04:13:18.118986Z",
     "shell.execute_reply": "2022-02-24T04:13:18.118213Z",
     "shell.execute_reply.started": "2022-02-24T04:13:17.777255Z"
    }
   },
   "outputs": [
    {
     "data": {
      "text/plain": [
       "<AxesSubplot:xlabel='rating_mean'>"
      ]
     },
     "execution_count": 22,
     "metadata": {},
     "output_type": "execute_result"
    },
    {
     "data": {
      "image/png": "[encoded data removed]",
      "text/plain": [
       "<Figure size 1080x1080 with 1 Axes>"
      ]
     },
     "metadata": {
      "needs_background": "light"
     },
     "output_type": "display_data"
    }
   ],
   "source": [
    "ratings = pd.DataFrame(df_games.groupby('Users')['user_rating'].mean())\n",
    "ratings.rename(columns={\"user_rating\": \"rating_mean\"}, inplace=True)\n",
    "plt.figure(figsize=(15,15))\n",
    "sns.distplot(ratings['rating_mean'],kde=False, bins=50)"
   ]
  },
  {
   "cell_type": "markdown",
   "metadata": {},
   "source": [
    "This is a mean rating distribution grouped by all the Users.\n",
    "\n",
    "This looks like slightly left skewed normal distribution.\n",
    "\n",
    "Many users have an average rating of around 8.0-8.2."
   ]
  },
  {
   "cell_type": "markdown",
   "metadata": {},
   "source": [
    "Those visualizations gave us a good idea of our data. Lets move onto creating our recommendation system."
   ]
  },
  {
   "cell_type": "markdown",
   "metadata": {},
   "source": [
    "# Recommender System"
   ]
  },
  {
   "cell_type": "code",
   "execution_count": 23,
   "metadata": {
    "execution": {
     "iopub.execute_input": "2022-02-24T04:13:18.120624Z",
     "iopub.status.busy": "2022-02-24T04:13:18.120135Z",
     "iopub.status.idle": "2022-02-24T04:13:18.134668Z",
     "shell.execute_reply": "2022-02-24T04:13:18.133583Z",
     "shell.execute_reply.started": "2022-02-24T04:13:18.120589Z"
    }
   },
   "outputs": [],
   "source": [
    "#train test split\n",
    "train_data, test_data = sk_train_test(df_games, test_size =.20, random_state=10)"
   ]
  },
  {
   "cell_type": "code",
   "execution_count": 24,
   "metadata": {
    "execution": {
     "iopub.execute_input": "2022-02-24T04:13:18.136574Z",
     "iopub.status.busy": "2022-02-24T04:13:18.136086Z",
     "iopub.status.idle": "2022-02-24T04:13:18.262025Z",
     "shell.execute_reply": "2022-02-24T04:13:18.261250Z",
     "shell.execute_reply.started": "2022-02-24T04:13:18.136521Z"
    }
   },
   "outputs": [],
   "source": [
    "#Only selecting users who have given more than 4 game reviews\n",
    "df1 = df_games['Users'].value_counts().rename_axis('Users').reset_index(name='counts')\n",
    "#df1 = df1[df1['counts'] > 10]\n",
    "df_test = df.merge(df1,how='inner', on ='Users') "
   ]
  },
  {
   "cell_type": "code",
   "execution_count": 25,
   "metadata": {
    "execution": {
     "iopub.execute_input": "2022-02-24T04:13:18.263355Z",
     "iopub.status.busy": "2022-02-24T04:13:18.263134Z",
     "iopub.status.idle": "2022-02-24T04:13:19.655436Z",
     "shell.execute_reply": "2022-02-24T04:13:19.654595Z",
     "shell.execute_reply.started": "2022-02-24T04:13:18.263328Z"
    }
   },
   "outputs": [],
   "source": [
    "#Creating a matrix with users in the rows and game_name as the columns\n",
    "\n",
    "matrix = df_test.pivot_table(columns='Game_name', index='Users', values='user_rating', fill_value=0)"
   ]
  },
  {
   "cell_type": "code",
   "execution_count": 26,
   "metadata": {
    "execution": {
     "iopub.execute_input": "2022-02-24T04:13:19.656741Z",
     "iopub.status.busy": "2022-02-24T04:13:19.656539Z",
     "iopub.status.idle": "2022-02-24T04:13:20.456192Z",
     "shell.execute_reply": "2022-02-24T04:13:20.455349Z",
     "shell.execute_reply.started": "2022-02-24T04:13:19.656716Z"
    }
   },
   "outputs": [],
   "source": [
    "#function to centre all values in the matrix\n",
    "\n",
    "def center(row):\n",
    "    new_row = (row - row.mean()) / (row.max() - row.min())\n",
    "    return new_row\n",
    "matrix_std = matrix.apply(center)"
   ]
  },
  {
   "cell_type": "code",
   "execution_count": 27,
   "metadata": {
    "execution": {
     "iopub.execute_input": "2022-02-24T04:13:20.457470Z",
     "iopub.status.busy": "2022-02-24T04:13:20.457257Z",
     "iopub.status.idle": "2022-02-24T04:13:20.464290Z",
     "shell.execute_reply": "2022-02-24T04:13:20.463165Z",
     "shell.execute_reply.started": "2022-02-24T04:13:20.457445Z"
    }
   },
   "outputs": [],
   "source": [
    "#Function to show the recommendations based for input game based and pearson correlation. (similarity scores)\n",
    "\n",
    "def gameRec(g):\n",
    "    dota = matrix_std[g]\n",
    "#Calculate Pearson Sim with all other games.\n",
    "    dota = matrix.corrwith(dota).dropna()\n",
    "#create a DF to show how many times each game has been played and the mean time it has been played\n",
    "    gameData = df_test.groupby('Game_name').agg({'user_rating': [np.size, np.mean]})\n",
    "#Filter out any game played by less than n players.\n",
    "    gameSim = gameData['user_rating']['size'] >= 0\n",
    "    df = gameData[gameSim].join(pd.DataFrame(dota, columns=['similarity'])).reset_index()\n",
    "    index = df.index\n",
    "    entered_game = df[\"Game_name\"] == g\n",
    "    game_index = index[entered_game]\n",
    "    df = df.drop(index=game_index)\n",
    "    return df.sort_values(['similarity'], ascending=False)[:20]"
   ]
  },
  {
   "cell_type": "code",
   "execution_count": 28,
   "metadata": {
    "execution": {
     "iopub.execute_input": "2022-02-24T04:13:20.469614Z",
     "iopub.status.busy": "2022-02-24T04:13:20.469338Z",
     "iopub.status.idle": "2022-02-24T04:13:21.210168Z",
     "shell.execute_reply": "2022-02-24T04:13:21.209572Z",
     "shell.execute_reply.started": "2022-02-24T04:13:20.469583Z"
    }
   },
   "outputs": [
    {
     "data": {
      "text/html": [
       "<div>\n",
       "<style scoped>\n",
       "    .dataframe tbody tr th:only-of-type {\n",
       "        vertical-align: middle;\n",
       "    }\n",
       "\n",
       "    .dataframe tbody tr th {\n",
       "        vertical-align: top;\n",
       "    }\n",
       "\n",
       "    .dataframe thead th {\n",
       "        text-align: right;\n",
       "    }\n",
       "</style>\n",
       "<table border=\"1\" class=\"dataframe\">\n",
       "  <thead>\n",
       "    <tr style=\"text-align: right;\">\n",
       "      <th></th>\n",
       "      <th>Game_name</th>\n",
       "      <th>(user_rating, size)</th>\n",
       "      <th>(user_rating, mean)</th>\n",
       "      <th>similarity</th>\n",
       "    </tr>\n",
       "  </thead>\n",
       "  <tbody>\n",
       "    <tr>\n",
       "      <th>242</th>\n",
       "      <td>Call of Duty: Warzone</td>\n",
       "      <td>50</td>\n",
       "      <td>5.000000</td>\n",
       "      <td>0.188313</td>\n",
       "    </tr>\n",
       "    <tr>\n",
       "      <th>225</th>\n",
       "      <td>Call of Duty: Black Ops Cold War</td>\n",
       "      <td>75</td>\n",
       "      <td>3.813333</td>\n",
       "      <td>0.125690</td>\n",
       "    </tr>\n",
       "    <tr>\n",
       "      <th>224</th>\n",
       "      <td>Call of Duty: Black Ops 4</td>\n",
       "      <td>113</td>\n",
       "      <td>3.619469</td>\n",
       "      <td>0.114070</td>\n",
       "    </tr>\n",
       "    <tr>\n",
       "      <th>237</th>\n",
       "      <td>Call of Duty: Modern Warfare 2 Campaign Remast...</td>\n",
       "      <td>32</td>\n",
       "      <td>7.062500</td>\n",
       "      <td>0.109102</td>\n",
       "    </tr>\n",
       "    <tr>\n",
       "      <th>1582</th>\n",
       "      <td>Sword Art Online: Alicization Lycoris</td>\n",
       "      <td>6</td>\n",
       "      <td>6.166667</td>\n",
       "      <td>0.108090</td>\n",
       "    </tr>\n",
       "    <tr>\n",
       "      <th>538</th>\n",
       "      <td>FIFA 20</td>\n",
       "      <td>146</td>\n",
       "      <td>2.164384</td>\n",
       "      <td>0.106987</td>\n",
       "    </tr>\n",
       "    <tr>\n",
       "      <th>238</th>\n",
       "      <td>Call of Duty: Modern Warfare Remastered</td>\n",
       "      <td>72</td>\n",
       "      <td>6.930556</td>\n",
       "      <td>0.102941</td>\n",
       "    </tr>\n",
       "    <tr>\n",
       "      <th>868</th>\n",
       "      <td>Life is Strange 2: Episode 1 - Roads</td>\n",
       "      <td>4</td>\n",
       "      <td>4.250000</td>\n",
       "      <td>0.102311</td>\n",
       "    </tr>\n",
       "    <tr>\n",
       "      <th>1404</th>\n",
       "      <td>Senran Kagura: Peach Beach Splash</td>\n",
       "      <td>8</td>\n",
       "      <td>7.500000</td>\n",
       "      <td>0.102004</td>\n",
       "    </tr>\n",
       "    <tr>\n",
       "      <th>151</th>\n",
       "      <td>Battlefield V</td>\n",
       "      <td>183</td>\n",
       "      <td>3.748634</td>\n",
       "      <td>0.096890</td>\n",
       "    </tr>\n",
       "    <tr>\n",
       "      <th>198</th>\n",
       "      <td>Borderlands 3</td>\n",
       "      <td>151</td>\n",
       "      <td>6.543046</td>\n",
       "      <td>0.091728</td>\n",
       "    </tr>\n",
       "    <tr>\n",
       "      <th>1510</th>\n",
       "      <td>Star Wars Jedi: Fallen Order</td>\n",
       "      <td>358</td>\n",
       "      <td>7.298883</td>\n",
       "      <td>0.090232</td>\n",
       "    </tr>\n",
       "    <tr>\n",
       "      <th>1376</th>\n",
       "      <td>Saints Row: The Third Remastered</td>\n",
       "      <td>8</td>\n",
       "      <td>7.375000</td>\n",
       "      <td>0.088963</td>\n",
       "    </tr>\n",
       "    <tr>\n",
       "      <th>1705</th>\n",
       "      <td>The Last of Us Part II</td>\n",
       "      <td>1965</td>\n",
       "      <td>6.258524</td>\n",
       "      <td>0.088651</td>\n",
       "    </tr>\n",
       "    <tr>\n",
       "      <th>74</th>\n",
       "      <td>Apex Legends</td>\n",
       "      <td>130</td>\n",
       "      <td>6.107692</td>\n",
       "      <td>0.085179</td>\n",
       "    </tr>\n",
       "    <tr>\n",
       "      <th>239</th>\n",
       "      <td>Call of Duty: WWII</td>\n",
       "      <td>213</td>\n",
       "      <td>5.262911</td>\n",
       "      <td>0.085114</td>\n",
       "    </tr>\n",
       "    <tr>\n",
       "      <th>716</th>\n",
       "      <td>Hitman 2</td>\n",
       "      <td>45</td>\n",
       "      <td>7.644444</td>\n",
       "      <td>0.084227</td>\n",
       "    </tr>\n",
       "    <tr>\n",
       "      <th>912</th>\n",
       "      <td>MLB The Show 20</td>\n",
       "      <td>13</td>\n",
       "      <td>6.615385</td>\n",
       "      <td>0.080583</td>\n",
       "    </tr>\n",
       "    <tr>\n",
       "      <th>1289</th>\n",
       "      <td>Red Dead Redemption 2</td>\n",
       "      <td>984</td>\n",
       "      <td>8.471545</td>\n",
       "      <td>0.079118</td>\n",
       "    </tr>\n",
       "    <tr>\n",
       "      <th>1016</th>\n",
       "      <td>Moto Racer 4</td>\n",
       "      <td>1</td>\n",
       "      <td>4.000000</td>\n",
       "      <td>0.077707</td>\n",
       "    </tr>\n",
       "  </tbody>\n",
       "</table>\n",
       "</div>"
      ],
      "text/plain": [
       "                                              Game_name  (user_rating, size)  \\\n",
       "242                               Call of Duty: Warzone                   50   \n",
       "225                    Call of Duty: Black Ops Cold War                   75   \n",
       "224                           Call of Duty: Black Ops 4                  113   \n",
       "237   Call of Duty: Modern Warfare 2 Campaign Remast...                   32   \n",
       "1582              Sword Art Online: Alicization Lycoris                    6   \n",
       "538                                             FIFA 20                  146   \n",
       "238             Call of Duty: Modern Warfare Remastered                   72   \n",
       "868                Life is Strange 2: Episode 1 - Roads                    4   \n",
       "1404                  Senran Kagura: Peach Beach Splash                    8   \n",
       "151                                       Battlefield V                  183   \n",
       "198                                       Borderlands 3                  151   \n",
       "1510                       Star Wars Jedi: Fallen Order                  358   \n",
       "1376                   Saints Row: The Third Remastered                    8   \n",
       "1705                             The Last of Us Part II                 1965   \n",
       "74                                         Apex Legends                  130   \n",
       "239                                  Call of Duty: WWII                  213   \n",
       "716                                            Hitman 2                   45   \n",
       "912                                     MLB The Show 20                   13   \n",
       "1289                              Red Dead Redemption 2                  984   \n",
       "1016                                       Moto Racer 4                    1   \n",
       "\n",
       "      (user_rating, mean)  similarity  \n",
       "242              5.000000    0.188313  \n",
       "225              3.813333    0.125690  \n",
       "224              3.619469    0.114070  \n",
       "237              7.062500    0.109102  \n",
       "1582             6.166667    0.108090  \n",
       "538              2.164384    0.106987  \n",
       "238              6.930556    0.102941  \n",
       "868              4.250000    0.102311  \n",
       "1404             7.500000    0.102004  \n",
       "151              3.748634    0.096890  \n",
       "198              6.543046    0.091728  \n",
       "1510             7.298883    0.090232  \n",
       "1376             7.375000    0.088963  \n",
       "1705             6.258524    0.088651  \n",
       "74               6.107692    0.085179  \n",
       "239              5.262911    0.085114  \n",
       "716              7.644444    0.084227  \n",
       "912              6.615385    0.080583  \n",
       "1289             8.471545    0.079118  \n",
       "1016             4.000000    0.077707  "
      ]
     },
     "execution_count": 28,
     "metadata": {},
     "output_type": "execute_result"
    }
   ],
   "source": [
    "gameRec(\"Call of Duty: Modern Warfare\")"
   ]
  },
  {
   "cell_type": "code",
   "execution_count": 29,
   "metadata": {
    "execution": {
     "iopub.execute_input": "2022-02-24T04:13:21.211960Z",
     "iopub.status.busy": "2022-02-24T04:13:21.211237Z",
     "iopub.status.idle": "2022-02-24T04:13:21.217118Z",
     "shell.execute_reply": "2022-02-24T04:13:21.216515Z",
     "shell.execute_reply.started": "2022-02-24T04:13:21.211919Z"
    }
   },
   "outputs": [],
   "source": [
    "#returns similarity scores for a given inpuut game. Will be used for multiple game input function\n",
    "def gameRec_modified(g):\n",
    "    dota = matrix_std[g]\n",
    "#Calculate Pearson Sim with all other games.\n",
    "    dota = matrix.corrwith(dota).dropna()\n",
    "#create a DF to show how many times each game has been played and the mean time it has been played\n",
    "    gameData = df_test.groupby('Game_name').agg({'user_rating': [np.size, np.mean]})\n",
    "#Filter out any game played by less than n players.\n",
    "    gameSim = gameData['user_rating']['size'] >= 0\n",
    "    df = gameData[gameSim].join(pd.DataFrame(dota, columns=['similarity']))\n",
    "    return df['similarity']"
   ]
  },
  {
   "cell_type": "code",
   "execution_count": 30,
   "metadata": {
    "execution": {
     "iopub.execute_input": "2022-02-24T04:13:21.218830Z",
     "iopub.status.busy": "2022-02-24T04:13:21.218413Z",
     "iopub.status.idle": "2022-02-24T04:13:21.231301Z",
     "shell.execute_reply": "2022-02-24T04:13:21.230654Z",
     "shell.execute_reply.started": "2022-02-24T04:13:21.218799Z"
    }
   },
   "outputs": [],
   "source": [
    "#multiple games recommendation - function to recommend based on multiple input games.\n",
    "x = list(matrix.keys())\n",
    "df_4 = pd.DataFrame(x , columns= [\"Game_name\"])\n",
    "index_list = []\n",
    "def multi_game(game_list):\n",
    "    df_4['Total_similarity'] = 0\n",
    "    #loop based on number of games entered\n",
    "    for i in game_list:\n",
    "        new_col = list(gameRec_modified(i))\n",
    "        df_4[i] = new_col\n",
    "        df_4['Total_similarity'] = df_4['Total_similarity'] + df_4[i]\n",
    "    #average of similarity by number of games.\n",
    "    df_4['Total_similarity'] = df_4['Total_similarity']/len(game_list)\n",
    "    \n",
    "    return df_4[['Game_name','Total_similarity']].sort_values(['Total_similarity'], ascending=False)[len(game_list):20] # to reomve games entered as input"
   ]
  },
  {
   "cell_type": "code",
   "execution_count": 31,
   "metadata": {
    "execution": {
     "iopub.execute_input": "2022-02-24T04:13:21.232973Z",
     "iopub.status.busy": "2022-02-24T04:13:21.232221Z",
     "iopub.status.idle": "2022-02-24T04:13:23.370158Z",
     "shell.execute_reply": "2022-02-24T04:13:23.369294Z",
     "shell.execute_reply.started": "2022-02-24T04:13:21.232938Z"
    }
   },
   "outputs": [
    {
     "data": {
      "text/html": [
       "<div>\n",
       "<style scoped>\n",
       "    .dataframe tbody tr th:only-of-type {\n",
       "        vertical-align: middle;\n",
       "    }\n",
       "\n",
       "    .dataframe tbody tr th {\n",
       "        vertical-align: top;\n",
       "    }\n",
       "\n",
       "    .dataframe thead th {\n",
       "        text-align: right;\n",
       "    }\n",
       "</style>\n",
       "<table border=\"1\" class=\"dataframe\">\n",
       "  <thead>\n",
       "    <tr style=\"text-align: right;\">\n",
       "      <th></th>\n",
       "      <th>Game_name</th>\n",
       "      <th>Total_similarity</th>\n",
       "    </tr>\n",
       "  </thead>\n",
       "  <tbody>\n",
       "    <tr>\n",
       "      <th>1946</th>\n",
       "      <td>Watch Dogs</td>\n",
       "      <td>0.201115</td>\n",
       "    </tr>\n",
       "    <tr>\n",
       "      <th>2031</th>\n",
       "      <td>inFamous: First Light</td>\n",
       "      <td>0.159075</td>\n",
       "    </tr>\n",
       "    <tr>\n",
       "      <th>223</th>\n",
       "      <td>Call of Duty: Advanced Warfare</td>\n",
       "      <td>0.150261</td>\n",
       "    </tr>\n",
       "    <tr>\n",
       "      <th>969</th>\n",
       "      <td>Middle-earth: Shadow of Mordor</td>\n",
       "      <td>0.149869</td>\n",
       "    </tr>\n",
       "    <tr>\n",
       "      <th>816</th>\n",
       "      <td>Killzone: Shadow Fall</td>\n",
       "      <td>0.145163</td>\n",
       "    </tr>\n",
       "    <tr>\n",
       "      <th>892</th>\n",
       "      <td>LittleBigPlanet 3</td>\n",
       "      <td>0.129813</td>\n",
       "    </tr>\n",
       "    <tr>\n",
       "      <th>397</th>\n",
       "      <td>Destiny</td>\n",
       "      <td>0.128376</td>\n",
       "    </tr>\n",
       "    <tr>\n",
       "      <th>1166</th>\n",
       "      <td>Outlast</td>\n",
       "      <td>0.122683</td>\n",
       "    </tr>\n",
       "    <tr>\n",
       "      <th>1970</th>\n",
       "      <td>Wolfenstein: The New Order</td>\n",
       "      <td>0.122131</td>\n",
       "    </tr>\n",
       "    <tr>\n",
       "      <th>91</th>\n",
       "      <td>Assassin's Creed IV: Black Flag</td>\n",
       "      <td>0.121612</td>\n",
       "    </tr>\n",
       "    <tr>\n",
       "      <th>666</th>\n",
       "      <td>Grand Theft Auto V</td>\n",
       "      <td>0.118525</td>\n",
       "    </tr>\n",
       "    <tr>\n",
       "      <th>532</th>\n",
       "      <td>FIFA 14</td>\n",
       "      <td>0.118276</td>\n",
       "    </tr>\n",
       "    <tr>\n",
       "      <th>480</th>\n",
       "      <td>Dying Light</td>\n",
       "      <td>0.117856</td>\n",
       "    </tr>\n",
       "    <tr>\n",
       "      <th>1813</th>\n",
       "      <td>Tomb Raider: Definitive Edition</td>\n",
       "      <td>0.117308</td>\n",
       "    </tr>\n",
       "    <tr>\n",
       "      <th>149</th>\n",
       "      <td>Battlefield 4</td>\n",
       "      <td>0.108864</td>\n",
       "    </tr>\n",
       "    <tr>\n",
       "      <th>1724</th>\n",
       "      <td>The Order: 1886</td>\n",
       "      <td>0.108419</td>\n",
       "    </tr>\n",
       "    <tr>\n",
       "      <th>960</th>\n",
       "      <td>Metal Gear Solid V: Ground Zeroes</td>\n",
       "      <td>0.105906</td>\n",
       "    </tr>\n",
       "  </tbody>\n",
       "</table>\n",
       "</div>"
      ],
      "text/plain": [
       "                              Game_name  Total_similarity\n",
       "1946                         Watch Dogs          0.201115\n",
       "2031              inFamous: First Light          0.159075\n",
       "223      Call of Duty: Advanced Warfare          0.150261\n",
       "969      Middle-earth: Shadow of Mordor          0.149869\n",
       "816               Killzone: Shadow Fall          0.145163\n",
       "892                   LittleBigPlanet 3          0.129813\n",
       "397                             Destiny          0.128376\n",
       "1166                            Outlast          0.122683\n",
       "1970         Wolfenstein: The New Order          0.122131\n",
       "91      Assassin's Creed IV: Black Flag          0.121612\n",
       "666                  Grand Theft Auto V          0.118525\n",
       "532                             FIFA 14          0.118276\n",
       "480                         Dying Light          0.117856\n",
       "1813    Tomb Raider: Definitive Edition          0.117308\n",
       "149                       Battlefield 4          0.108864\n",
       "1724                    The Order: 1886          0.108419\n",
       "960   Metal Gear Solid V: Ground Zeroes          0.105906"
      ]
     },
     "execution_count": 31,
     "metadata": {},
     "output_type": "execute_result"
    }
   ],
   "source": [
    "multi_game(['inFamous: Second Son','FIFA 15',\"Far Cry 4\"])"
   ]
  },
  {
   "cell_type": "code",
   "execution_count": 32,
   "metadata": {
    "execution": {
     "iopub.execute_input": "2022-02-24T04:13:23.371604Z",
     "iopub.status.busy": "2022-02-24T04:13:23.371396Z",
     "iopub.status.idle": "2022-02-24T04:13:23.385044Z",
     "shell.execute_reply": "2022-02-24T04:13:23.384179Z",
     "shell.execute_reply.started": "2022-02-24T04:13:23.371580Z"
    }
   },
   "outputs": [],
   "source": [
    "#multiple games recommendation with rating input\n",
    "x = list(matrix.keys())\n",
    "df_4 = pd.DataFrame(x , columns= [\"Game_name\"])\n",
    "\n",
    "def multi_game(game_dict):\n",
    "    df_4['Total_similarity'] = 0\n",
    "    games = []\n",
    "    rating_sum = 0\n",
    "    \n",
    "    for key in game_dict:\n",
    "        #condition when only in game is input with rating\n",
    "        if len(game_dict.keys())==1:\n",
    "            if game_dict.get(key)==0:\n",
    "                new_col = list(gameRec_modified(key))\n",
    "                df_4[key] = new_col\n",
    "                df_4['Total_similarity'] = df_4['Total_similarity'] + df_4[key]\n",
    "                print(df_4[['Game_name','Total_similarity']])\n",
    "                return df_4[['Game_name','Total_similarity']].sort_values(['Total_similarity'], ascending=True)[0:20]\n",
    "            else:\n",
    "                new_col = list(gameRec_modified(key))\n",
    "                df_4[key] = new_col\n",
    "                df_4['Total_similarity'] = df_4['Total_similarity'] + df_4[key]\n",
    "                df_5 = df_4[df_4[\"Game_name\"] != key]\n",
    "                max_val = df_5['Total_similarity'].max()\n",
    "                min_val = df_5['Total_similarity'].min()\n",
    "                #print(max_val, min_val)\n",
    "                adder=(max_val - min_val)/10\n",
    "                max_range = min_val + adder*game_dict.get(key)\n",
    "                df_out = df_5.loc[df_5['Total_similarity']<= max_range]\n",
    "                return df_out[['Game_name','Total_similarity']].sort_values(['Total_similarity'], ascending=False)[0:20]\n",
    "        else:\n",
    "            new_col = list(gameRec_modified(key))\n",
    "            df_4[key] = new_col\n",
    "            df_4[key] = df_4[key]*((0.1)*game_dict.get(key))\n",
    "            df_4['Total_similarity'] = df_4['Total_similarity'] + df_4[key]\n",
    "            games.append(key)\n",
    "            rating_sum+= game_dict.get(key)\n",
    "            print(rating_sum)\n",
    "\n",
    "    df_4['Total_similarity'] = df_4['Total_similarity']/len(game_dict)\n",
    "    df_5 = df_4[~df_4[\"Game_name\"].isin(games)]\n",
    "    #if rating_sum==0:\n",
    "    #    return df_5[['Game_name','Total_similarity']].sort_values(['Total_similarity'], ascending=True)[0:20]\n",
    "    max_val = df_5['Total_similarity'].max()\n",
    "    min_val = df_5['Total_similarity'].min()\n",
    "    adder=(max_val - min_val)/10\n",
    "    max_range = min_val + adder*(math.ceil(rating_sum/len(games)))\n",
    "    df_6 = df_5.loc[df_5['Total_similarity']<= max_range]\n",
    "\n",
    "    return df_6[['Game_name','Total_similarity']].sort_values(['Total_similarity'], ascending=False)[0:20]"
   ]
  },
  {
   "cell_type": "code",
   "execution_count": 33,
   "metadata": {
    "execution": {
     "iopub.execute_input": "2022-02-24T04:13:23.387051Z",
     "iopub.status.busy": "2022-02-24T04:13:23.386754Z",
     "iopub.status.idle": "2022-02-24T04:13:24.815957Z",
     "shell.execute_reply": "2022-02-24T04:13:24.815087Z",
     "shell.execute_reply.started": "2022-02-24T04:13:23.387012Z"
    }
   },
   "outputs": [
    {
     "name": "stdout",
     "output_type": "stream",
     "text": [
      "7\n",
      "16\n"
     ]
    },
    {
     "data": {
      "text/html": [
       "<div>\n",
       "<style scoped>\n",
       "    .dataframe tbody tr th:only-of-type {\n",
       "        vertical-align: middle;\n",
       "    }\n",
       "\n",
       "    .dataframe tbody tr th {\n",
       "        vertical-align: top;\n",
       "    }\n",
       "\n",
       "    .dataframe thead th {\n",
       "        text-align: right;\n",
       "    }\n",
       "</style>\n",
       "<table border=\"1\" class=\"dataframe\">\n",
       "  <thead>\n",
       "    <tr style=\"text-align: right;\">\n",
       "      <th></th>\n",
       "      <th>Game_name</th>\n",
       "      <th>Total_similarity</th>\n",
       "    </tr>\n",
       "  </thead>\n",
       "  <tbody>\n",
       "    <tr>\n",
       "      <th>538</th>\n",
       "      <td>FIFA 20</td>\n",
       "      <td>0.144275</td>\n",
       "    </tr>\n",
       "    <tr>\n",
       "      <th>1049</th>\n",
       "      <td>NBA 2K21</td>\n",
       "      <td>0.115267</td>\n",
       "    </tr>\n",
       "    <tr>\n",
       "      <th>534</th>\n",
       "      <td>FIFA 16</td>\n",
       "      <td>0.099103</td>\n",
       "    </tr>\n",
       "    <tr>\n",
       "      <th>532</th>\n",
       "      <td>FIFA 14</td>\n",
       "      <td>0.099087</td>\n",
       "    </tr>\n",
       "    <tr>\n",
       "      <th>798</th>\n",
       "      <td>Just Dance 2019</td>\n",
       "      <td>0.097377</td>\n",
       "    </tr>\n",
       "    <tr>\n",
       "      <th>958</th>\n",
       "      <td>Megaton Rainfall</td>\n",
       "      <td>0.091038</td>\n",
       "    </tr>\n",
       "    <tr>\n",
       "      <th>831</th>\n",
       "      <td>Knowledge is Power: Decades</td>\n",
       "      <td>0.086438</td>\n",
       "    </tr>\n",
       "    <tr>\n",
       "      <th>1041</th>\n",
       "      <td>NBA 2K Playgrounds 2</td>\n",
       "      <td>0.082655</td>\n",
       "    </tr>\n",
       "    <tr>\n",
       "      <th>1240</th>\n",
       "      <td>Prison Architect</td>\n",
       "      <td>0.068027</td>\n",
       "    </tr>\n",
       "    <tr>\n",
       "      <th>1642</th>\n",
       "      <td>The Bunker</td>\n",
       "      <td>0.067906</td>\n",
       "    </tr>\n",
       "    <tr>\n",
       "      <th>1241</th>\n",
       "      <td>Pro Evolution Soccer 2015</td>\n",
       "      <td>0.067188</td>\n",
       "    </tr>\n",
       "    <tr>\n",
       "      <th>1242</th>\n",
       "      <td>Pro Evolution Soccer 2016</td>\n",
       "      <td>0.065325</td>\n",
       "    </tr>\n",
       "    <tr>\n",
       "      <th>1047</th>\n",
       "      <td>NBA 2K19</td>\n",
       "      <td>0.065161</td>\n",
       "    </tr>\n",
       "    <tr>\n",
       "      <th>649</th>\n",
       "      <td>Goat Simulator</td>\n",
       "      <td>0.063606</td>\n",
       "    </tr>\n",
       "    <tr>\n",
       "      <th>539</th>\n",
       "      <td>FIFA 21</td>\n",
       "      <td>0.060765</td>\n",
       "    </tr>\n",
       "    <tr>\n",
       "      <th>1526</th>\n",
       "      <td>Steep</td>\n",
       "      <td>0.058287</td>\n",
       "    </tr>\n",
       "    <tr>\n",
       "      <th>1243</th>\n",
       "      <td>Pro Evolution Soccer 2017</td>\n",
       "      <td>0.056794</td>\n",
       "    </tr>\n",
       "    <tr>\n",
       "      <th>513</th>\n",
       "      <td>Erica</td>\n",
       "      <td>0.056565</td>\n",
       "    </tr>\n",
       "    <tr>\n",
       "      <th>1244</th>\n",
       "      <td>Pro Evolution Soccer 2018</td>\n",
       "      <td>0.055939</td>\n",
       "    </tr>\n",
       "    <tr>\n",
       "      <th>1088</th>\n",
       "      <td>Neverending Nightmares</td>\n",
       "      <td>0.055899</td>\n",
       "    </tr>\n",
       "  </tbody>\n",
       "</table>\n",
       "</div>"
      ],
      "text/plain": [
       "                        Game_name  Total_similarity\n",
       "538                       FIFA 20          0.144275\n",
       "1049                     NBA 2K21          0.115267\n",
       "534                       FIFA 16          0.099103\n",
       "532                       FIFA 14          0.099087\n",
       "798               Just Dance 2019          0.097377\n",
       "958              Megaton Rainfall          0.091038\n",
       "831   Knowledge is Power: Decades          0.086438\n",
       "1041         NBA 2K Playgrounds 2          0.082655\n",
       "1240             Prison Architect          0.068027\n",
       "1642                   The Bunker          0.067906\n",
       "1241    Pro Evolution Soccer 2015          0.067188\n",
       "1242    Pro Evolution Soccer 2016          0.065325\n",
       "1047                     NBA 2K19          0.065161\n",
       "649                Goat Simulator          0.063606\n",
       "539                       FIFA 21          0.060765\n",
       "1526                        Steep          0.058287\n",
       "1243    Pro Evolution Soccer 2017          0.056794\n",
       "513                         Erica          0.056565\n",
       "1244    Pro Evolution Soccer 2018          0.055939\n",
       "1088       Neverending Nightmares          0.055899"
      ]
     },
     "execution_count": 33,
     "metadata": {},
     "output_type": "execute_result"
    }
   ],
   "source": [
    "multi_game({\"FIFA 15\":7,\"FIFA 19\":9})\n",
    "#a = {'FIFA 15':0}\n",
    "#a.get('FIFA 15')"
   ]
  },
  {
   "cell_type": "markdown",
   "metadata": {},
   "source": [
    "The above are recommendation systems that use pearson correlation to recommend games, lets use the suprise library to check other type of models"
   ]
  },
  {
   "cell_type": "markdown",
   "metadata": {},
   "source": [
    "### Using the Suprise library for recommendation"
   ]
  },
  {
   "cell_type": "markdown",
   "metadata": {},
   "source": [
    "Surprise is a Python scikit for building and analyzing recommender systems that deal with explicit rating data. We will try a couple of models from this library."
   ]
  },
  {
   "cell_type": "code",
   "execution_count": 34,
   "metadata": {
    "execution": {
     "iopub.execute_input": "2022-02-24T04:13:24.817919Z",
     "iopub.status.busy": "2022-02-24T04:13:24.817623Z",
     "iopub.status.idle": "2022-02-24T04:13:24.856909Z",
     "shell.execute_reply": "2022-02-24T04:13:24.856284Z",
     "shell.execute_reply.started": "2022-02-24T04:13:24.817880Z"
    }
   },
   "outputs": [
    {
     "data": {
      "text/html": [
       "<div>\n",
       "<style scoped>\n",
       "    .dataframe tbody tr th:only-of-type {\n",
       "        vertical-align: middle;\n",
       "    }\n",
       "\n",
       "    .dataframe tbody tr th {\n",
       "        vertical-align: top;\n",
       "    }\n",
       "\n",
       "    .dataframe thead th {\n",
       "        text-align: right;\n",
       "    }\n",
       "</style>\n",
       "<table border=\"1\" class=\"dataframe\">\n",
       "  <thead>\n",
       "    <tr style=\"text-align: right;\">\n",
       "      <th></th>\n",
       "      <th>Users</th>\n",
       "      <th>Game_name</th>\n",
       "      <th>user_rating</th>\n",
       "    </tr>\n",
       "  </thead>\n",
       "  <tbody>\n",
       "    <tr>\n",
       "      <th>4</th>\n",
       "      <td>3957</td>\n",
       "      <td>1289</td>\n",
       "      <td>7</td>\n",
       "    </tr>\n",
       "    <tr>\n",
       "      <th>5</th>\n",
       "      <td>5268</td>\n",
       "      <td>1289</td>\n",
       "      <td>7</td>\n",
       "    </tr>\n",
       "    <tr>\n",
       "      <th>6</th>\n",
       "      <td>3997</td>\n",
       "      <td>1289</td>\n",
       "      <td>7</td>\n",
       "    </tr>\n",
       "    <tr>\n",
       "      <th>8</th>\n",
       "      <td>4939</td>\n",
       "      <td>1289</td>\n",
       "      <td>8</td>\n",
       "    </tr>\n",
       "    <tr>\n",
       "      <th>10</th>\n",
       "      <td>4427</td>\n",
       "      <td>1289</td>\n",
       "      <td>5</td>\n",
       "    </tr>\n",
       "  </tbody>\n",
       "</table>\n",
       "</div>"
      ],
      "text/plain": [
       "    Users  Game_name  user_rating\n",
       "4    3957       1289            7\n",
       "5    5268       1289            7\n",
       "6    3997       1289            7\n",
       "8    4939       1289            8\n",
       "10   4427       1289            5"
      ]
     },
     "execution_count": 34,
     "metadata": {},
     "output_type": "execute_result"
    }
   ],
   "source": [
    "#encoding the users and the game names as well\n",
    "from sklearn import preprocessing\n",
    "label_encoder = preprocessing.LabelEncoder()\n",
    "df_games['Game_name']= label_encoder.fit_transform(df_games['Game_name'])\n",
    "df_games['Users']= label_encoder.fit_transform(df_games['Users']) \n",
    "df_games.head()"
   ]
  },
  {
   "cell_type": "code",
   "execution_count": 36,
   "metadata": {
    "execution": {
     "iopub.execute_input": "2022-02-24T04:13:24.863586Z",
     "iopub.status.busy": "2022-02-24T04:13:24.863307Z",
     "iopub.status.idle": "2022-02-24T04:13:58.355529Z",
     "shell.execute_reply": "2022-02-24T04:13:58.354700Z",
     "shell.execute_reply.started": "2022-02-24T04:13:24.863547Z"
    }
   },
   "outputs": [
    {
     "name": "stdout",
     "output_type": "stream",
     "text": [
      "SVD model\n",
      "RMSE: 2.3795\n",
      "KNNBasic model\n",
      "Computing the msd similarity matrix...\n",
      "Done computing similarity matrix.\n",
      "RMSE: 2.5246\n",
      "KNNWithMeans model\n",
      "Computing the msd similarity matrix...\n",
      "Done computing similarity matrix.\n",
      "RMSE: 2.4681\n",
      "SVDpp model\n",
      "RMSE: 2.4003\n",
      "KNNWithZScore model\n",
      "Computing the msd similarity matrix...\n",
      "Done computing similarity matrix.\n",
      "RMSE: 2.5184\n"
     ]
    }
   ],
   "source": [
    "#creating reader object to read dataframe\n",
    "reader = Reader(rating_scale =(0,10))\n",
    "data = Dataset.load_from_df(df_games[['Users', 'Game_name', 'user_rating']], reader)\n",
    "\n",
    "\n",
    "algo = [SVD(), KNNBasic(), KNNWithMeans(), SVDpp(), KNNWithZScore()]\n",
    "names = ['SVD', 'KNNBasic', 'KNNWithMeans', 'SVDpp', 'KNNWithZScore']\n",
    "accuracy_list = []\n",
    "\n",
    "#train test split using suprise\n",
    "trainset, testset = train_test_split(data, test_size=.2,random_state=42)\n",
    "\n",
    "#Loop to train models\n",
    "for model in range(len(algo)):\n",
    "    print( names[model] +' model')\n",
    "    algo[model].fit(trainset)\n",
    "    predictions = algo[model].test(testset)\n",
    "    x = accuracy.rmse(predictions)\n",
    "    accuracy_list.append(x)"
   ]
  },
  {
   "cell_type": "code",
   "execution_count": 37,
   "metadata": {
    "execution": {
     "iopub.execute_input": "2022-02-24T04:13:58.356685Z",
     "iopub.status.busy": "2022-02-24T04:13:58.356486Z",
     "iopub.status.idle": "2022-02-24T04:13:58.367572Z",
     "shell.execute_reply": "2022-02-24T04:13:58.366704Z",
     "shell.execute_reply.started": "2022-02-24T04:13:58.356662Z"
    }
   },
   "outputs": [
    {
     "data": {
      "text/html": [
       "<div>\n",
       "<style scoped>\n",
       "    .dataframe tbody tr th:only-of-type {\n",
       "        vertical-align: middle;\n",
       "    }\n",
       "\n",
       "    .dataframe tbody tr th {\n",
       "        vertical-align: top;\n",
       "    }\n",
       "\n",
       "    .dataframe thead th {\n",
       "        text-align: right;\n",
       "    }\n",
       "</style>\n",
       "<table border=\"1\" class=\"dataframe\">\n",
       "  <thead>\n",
       "    <tr style=\"text-align: right;\">\n",
       "      <th></th>\n",
       "      <th>Algorithm</th>\n",
       "      <th>test_rmse</th>\n",
       "    </tr>\n",
       "  </thead>\n",
       "  <tbody>\n",
       "    <tr>\n",
       "      <th>0</th>\n",
       "      <td>SVD</td>\n",
       "      <td>2.379476</td>\n",
       "    </tr>\n",
       "    <tr>\n",
       "      <th>1</th>\n",
       "      <td>KNNBasic</td>\n",
       "      <td>2.524618</td>\n",
       "    </tr>\n",
       "    <tr>\n",
       "      <th>2</th>\n",
       "      <td>KNNWithMeans</td>\n",
       "      <td>2.468078</td>\n",
       "    </tr>\n",
       "    <tr>\n",
       "      <th>3</th>\n",
       "      <td>SVDpp</td>\n",
       "      <td>2.400297</td>\n",
       "    </tr>\n",
       "    <tr>\n",
       "      <th>4</th>\n",
       "      <td>KNNWithZScore</td>\n",
       "      <td>2.518387</td>\n",
       "    </tr>\n",
       "  </tbody>\n",
       "</table>\n",
       "</div>"
      ],
      "text/plain": [
       "       Algorithm  test_rmse\n",
       "0            SVD   2.379476\n",
       "1       KNNBasic   2.524618\n",
       "2   KNNWithMeans   2.468078\n",
       "3          SVDpp   2.400297\n",
       "4  KNNWithZScore   2.518387"
      ]
     },
     "execution_count": 37,
     "metadata": {},
     "output_type": "execute_result"
    }
   ],
   "source": [
    "#dataframe to check rmse for each model.\n",
    "performance_df = pd.DataFrame(names, columns=['Algorithm'])\n",
    "performance_df['test_rmse'] = accuracy_list\n",
    "performance_df"
   ]
  },
  {
   "cell_type": "markdown",
   "metadata": {},
   "source": [
    "From the above models we can see that the SVD model has the least RMSE and hence performs the best."
   ]
  },
  {
   "cell_type": "code",
   "execution_count": 38,
   "metadata": {
    "execution": {
     "iopub.execute_input": "2022-02-24T04:13:58.369143Z",
     "iopub.status.busy": "2022-02-24T04:13:58.368937Z",
     "iopub.status.idle": "2022-02-24T04:19:48.527854Z",
     "shell.execute_reply": "2022-02-24T04:19:48.526983Z",
     "shell.execute_reply.started": "2022-02-24T04:13:58.369118Z"
    }
   },
   "outputs": [
    {
     "name": "stdout",
     "output_type": "stream",
     "text": [
      "Computing the msd similarity matrix...\n",
      "Done computing similarity matrix.\n",
      "Computing the msd similarity matrix...\n",
      "Done computing similarity matrix.\n",
      "Computing the msd similarity matrix...\n",
      "Done computing similarity matrix.\n",
      "Computing the msd similarity matrix...\n",
      "Done computing similarity matrix.\n",
      "Computing the msd similarity matrix...\n",
      "Done computing similarity matrix.\n",
      "Computing the msd similarity matrix...\n",
      "Done computing similarity matrix.\n",
      "Computing the msd similarity matrix...\n",
      "Done computing similarity matrix.\n",
      "Computing the msd similarity matrix...\n",
      "Done computing similarity matrix.\n",
      "Computing the msd similarity matrix...\n",
      "Done computing similarity matrix.\n",
      "Computing the msd similarity matrix...\n",
      "Done computing similarity matrix.\n",
      "Computing the msd similarity matrix...\n",
      "Done computing similarity matrix.\n",
      "Computing the msd similarity matrix...\n",
      "Done computing similarity matrix.\n",
      "Computing the msd similarity matrix...\n",
      "Done computing similarity matrix.\n",
      "Computing the msd similarity matrix...\n",
      "Done computing similarity matrix.\n",
      "Computing the msd similarity matrix...\n",
      "Done computing similarity matrix.\n"
     ]
    }
   ],
   "source": [
    "#Using cross validation to see if we can improve performance\n",
    "cross_val = []\n",
    "for model in range(len(algo)):\n",
    "    x = cross_validate(algo[model],data,cv=5,return_train_measures=True)\n",
    "    cross_val.append(x['test_rmse'].mean())"
   ]
  },
  {
   "cell_type": "code",
   "execution_count": 39,
   "metadata": {
    "execution": {
     "iopub.execute_input": "2022-02-24T04:19:48.529486Z",
     "iopub.status.busy": "2022-02-24T04:19:48.529167Z",
     "iopub.status.idle": "2022-02-24T04:19:48.540580Z",
     "shell.execute_reply": "2022-02-24T04:19:48.539797Z",
     "shell.execute_reply.started": "2022-02-24T04:19:48.529446Z"
    }
   },
   "outputs": [
    {
     "data": {
      "text/html": [
       "<div>\n",
       "<style scoped>\n",
       "    .dataframe tbody tr th:only-of-type {\n",
       "        vertical-align: middle;\n",
       "    }\n",
       "\n",
       "    .dataframe tbody tr th {\n",
       "        vertical-align: top;\n",
       "    }\n",
       "\n",
       "    .dataframe thead th {\n",
       "        text-align: right;\n",
       "    }\n",
       "</style>\n",
       "<table border=\"1\" class=\"dataframe\">\n",
       "  <thead>\n",
       "    <tr style=\"text-align: right;\">\n",
       "      <th></th>\n",
       "      <th>Algorithm</th>\n",
       "      <th>test_rmse</th>\n",
       "      <th>test_rsme_cv</th>\n",
       "    </tr>\n",
       "  </thead>\n",
       "  <tbody>\n",
       "    <tr>\n",
       "      <th>0</th>\n",
       "      <td>SVD</td>\n",
       "      <td>2.379476</td>\n",
       "      <td>2.366617</td>\n",
       "    </tr>\n",
       "    <tr>\n",
       "      <th>1</th>\n",
       "      <td>KNNBasic</td>\n",
       "      <td>2.524618</td>\n",
       "      <td>2.528661</td>\n",
       "    </tr>\n",
       "    <tr>\n",
       "      <th>2</th>\n",
       "      <td>KNNWithMeans</td>\n",
       "      <td>2.468078</td>\n",
       "      <td>2.465234</td>\n",
       "    </tr>\n",
       "    <tr>\n",
       "      <th>3</th>\n",
       "      <td>SVDpp</td>\n",
       "      <td>2.400297</td>\n",
       "      <td>2.419676</td>\n",
       "    </tr>\n",
       "    <tr>\n",
       "      <th>4</th>\n",
       "      <td>KNNWithZScore</td>\n",
       "      <td>2.518387</td>\n",
       "      <td>2.500672</td>\n",
       "    </tr>\n",
       "  </tbody>\n",
       "</table>\n",
       "</div>"
      ],
      "text/plain": [
       "       Algorithm  test_rmse  test_rsme_cv\n",
       "0            SVD   2.379476      2.366617\n",
       "1       KNNBasic   2.524618      2.528661\n",
       "2   KNNWithMeans   2.468078      2.465234\n",
       "3          SVDpp   2.400297      2.419676\n",
       "4  KNNWithZScore   2.518387      2.500672"
      ]
     },
     "execution_count": 39,
     "metadata": {},
     "output_type": "execute_result"
    }
   ],
   "source": [
    "performance_df['test_rsme_cv'] = cross_val\n",
    "performance_df"
   ]
  },
  {
   "cell_type": "markdown",
   "metadata": {},
   "source": [
    "We see that cross-validating does not make much of a difference."
   ]
  },
  {
   "cell_type": "code",
   "execution_count": 40,
   "metadata": {
    "execution": {
     "iopub.execute_input": "2022-02-24T04:19:48.542448Z",
     "iopub.status.busy": "2022-02-24T04:19:48.541645Z",
     "iopub.status.idle": "2022-02-24T05:37:50.471717Z",
     "shell.execute_reply": "2022-02-24T05:37:50.470727Z",
     "shell.execute_reply.started": "2022-02-24T04:19:48.542407Z"
    }
   },
   "outputs": [
    {
     "name": "stdout",
     "output_type": "stream",
     "text": [
      "{'rmse': 2.3714387281067038}\n",
      "{'rmse': {'n_factors': 50, 'n_epochs': 20, 'lr_all': 0.005, 'reg_all': 0.1}}\n",
      "{'rmse': <surprise.prediction_algorithms.matrix_factorization.SVD object at 0x7f00ecca1150>}\n",
      "Computing the msd similarity matrix...\n",
      "Done computing similarity matrix.\n",
      "Computing the msd similarity matrix...\n",
      "Done computing similarity matrix.\n",
      "Computing the msd similarity matrix...\n",
      "Done computing similarity matrix.\n",
      "Computing the msd similarity matrix...\n",
      "Done computing similarity matrix.\n",
      "Computing the msd similarity matrix...\n",
      "Done computing similarity matrix.\n",
      "Computing the msd similarity matrix...\n",
      "Done computing similarity matrix.\n",
      "Computing the msd similarity matrix...\n",
      "Done computing similarity matrix.\n",
      "Computing the msd similarity matrix...\n",
      "Done computing similarity matrix.\n",
      "Computing the msd similarity matrix...\n",
      "Done computing similarity matrix.\n",
      "Computing the msd similarity matrix...\n",
      "Done computing similarity matrix.\n",
      "Computing the msd similarity matrix...\n",
      "Done computing similarity matrix.\n",
      "Computing the msd similarity matrix...\n",
      "Done computing similarity matrix.\n",
      "Computing the msd similarity matrix...\n",
      "Done computing similarity matrix.\n",
      "Computing the msd similarity matrix...\n",
      "Done computing similarity matrix.\n",
      "Computing the msd similarity matrix...\n",
      "Done computing similarity matrix.\n",
      "Computing the msd similarity matrix...\n",
      "Done computing similarity matrix.\n",
      "Computing the msd similarity matrix...\n",
      "Done computing similarity matrix.\n",
      "Computing the msd similarity matrix...\n",
      "Done computing similarity matrix.\n",
      "Computing the msd similarity matrix...\n",
      "Done computing similarity matrix.\n",
      "Computing the msd similarity matrix...\n",
      "Done computing similarity matrix.\n",
      "Computing the msd similarity matrix...\n",
      "Done computing similarity matrix.\n",
      "Computing the msd similarity matrix...\n",
      "Done computing similarity matrix.\n",
      "Computing the msd similarity matrix...\n",
      "Done computing similarity matrix.\n",
      "Computing the msd similarity matrix...\n",
      "Done computing similarity matrix.\n",
      "Computing the msd similarity matrix...\n",
      "Done computing similarity matrix.\n",
      "Computing the msd similarity matrix...\n",
      "Done computing similarity matrix.\n",
      "Computing the msd similarity matrix...\n",
      "Done computing similarity matrix.\n",
      "Computing the msd similarity matrix...\n",
      "Done computing similarity matrix.\n",
      "Computing the msd similarity matrix...\n",
      "Done computing similarity matrix.\n",
      "Computing the msd similarity matrix...\n",
      "Done computing similarity matrix.\n",
      "Computing the msd similarity matrix...\n",
      "Done computing similarity matrix.\n",
      "Computing the msd similarity matrix...\n",
      "Done computing similarity matrix.\n",
      "Computing the msd similarity matrix...\n",
      "Done computing similarity matrix.\n",
      "Computing the msd similarity matrix...\n",
      "Done computing similarity matrix.\n",
      "Computing the msd similarity matrix...\n",
      "Done computing similarity matrix.\n",
      "Computing the msd similarity matrix...\n",
      "Done computing similarity matrix.\n",
      "Computing the msd similarity matrix...\n",
      "Done computing similarity matrix.\n",
      "Computing the msd similarity matrix...\n",
      "Done computing similarity matrix.\n",
      "Computing the msd similarity matrix...\n",
      "Done computing similarity matrix.\n",
      "Computing the msd similarity matrix...\n",
      "Done computing similarity matrix.\n",
      "Computing the msd similarity matrix...\n",
      "Done computing similarity matrix.\n",
      "Computing the msd similarity matrix...\n",
      "Done computing similarity matrix.\n",
      "Computing the msd similarity matrix...\n",
      "Done computing similarity matrix.\n",
      "Computing the msd similarity matrix...\n",
      "Done computing similarity matrix.\n",
      "Computing the msd similarity matrix...\n",
      "Done computing similarity matrix.\n",
      "Computing the msd similarity matrix...\n",
      "Done computing similarity matrix.\n",
      "Computing the msd similarity matrix...\n",
      "Done computing similarity matrix.\n",
      "Computing the msd similarity matrix...\n",
      "Done computing similarity matrix.\n",
      "Computing the msd similarity matrix...\n",
      "Done computing similarity matrix.\n",
      "Computing the msd similarity matrix...\n",
      "Done computing similarity matrix.\n",
      "Computing the msd similarity matrix...\n",
      "Done computing similarity matrix.\n",
      "Computing the msd similarity matrix...\n",
      "Done computing similarity matrix.\n",
      "Computing the msd similarity matrix...\n",
      "Done computing similarity matrix.\n",
      "Computing the msd similarity matrix...\n",
      "Done computing similarity matrix.\n",
      "Computing the msd similarity matrix...\n",
      "Done computing similarity matrix.\n",
      "Computing the msd similarity matrix...\n",
      "Done computing similarity matrix.\n",
      "Computing the msd similarity matrix...\n",
      "Done computing similarity matrix.\n",
      "Computing the msd similarity matrix...\n",
      "Done computing similarity matrix.\n",
      "Computing the msd similarity matrix...\n",
      "Done computing similarity matrix.\n",
      "Computing the msd similarity matrix...\n",
      "Done computing similarity matrix.\n",
      "Computing the msd similarity matrix...\n",
      "Done computing similarity matrix.\n",
      "Computing the msd similarity matrix...\n",
      "Done computing similarity matrix.\n",
      "Computing the msd similarity matrix...\n",
      "Done computing similarity matrix.\n",
      "Computing the msd similarity matrix...\n",
      "Done computing similarity matrix.\n",
      "Computing the msd similarity matrix...\n",
      "Done computing similarity matrix.\n",
      "Computing the msd similarity matrix...\n",
      "Done computing similarity matrix.\n",
      "Computing the msd similarity matrix...\n",
      "Done computing similarity matrix.\n",
      "Computing the msd similarity matrix...\n",
      "Done computing similarity matrix.\n",
      "Computing the msd similarity matrix...\n",
      "Done computing similarity matrix.\n",
      "Computing the msd similarity matrix...\n",
      "Done computing similarity matrix.\n",
      "Computing the msd similarity matrix...\n",
      "Done computing similarity matrix.\n",
      "Computing the msd similarity matrix...\n",
      "Done computing similarity matrix.\n",
      "{'rmse': 2.567923889024818}\n",
      "{'rmse': {'n_factors': 50, 'n_epochs': 20, 'lr_all': 0.005, 'reg_all': 0.02}}\n",
      "{'rmse': <surprise.prediction_algorithms.knns.KNNBasic object at 0x7f00dfc38e50>}\n",
      "Computing the msd similarity matrix...\n",
      "Done computing similarity matrix.\n",
      "Computing the msd similarity matrix...\n",
      "Done computing similarity matrix.\n",
      "Computing the msd similarity matrix...\n",
      "Done computing similarity matrix.\n",
      "Computing the msd similarity matrix...\n",
      "Done computing similarity matrix.\n",
      "Computing the msd similarity matrix...\n",
      "Done computing similarity matrix.\n",
      "Computing the msd similarity matrix...\n",
      "Done computing similarity matrix.\n",
      "Computing the msd similarity matrix...\n",
      "Done computing similarity matrix.\n",
      "Computing the msd similarity matrix...\n",
      "Done computing similarity matrix.\n",
      "Computing the msd similarity matrix...\n",
      "Done computing similarity matrix.\n",
      "Computing the msd similarity matrix...\n",
      "Done computing similarity matrix.\n",
      "Computing the msd similarity matrix...\n",
      "Done computing similarity matrix.\n",
      "Computing the msd similarity matrix...\n",
      "Done computing similarity matrix.\n",
      "Computing the msd similarity matrix...\n",
      "Done computing similarity matrix.\n",
      "Computing the msd similarity matrix...\n",
      "Done computing similarity matrix.\n",
      "Computing the msd similarity matrix...\n",
      "Done computing similarity matrix.\n",
      "Computing the msd similarity matrix...\n",
      "Done computing similarity matrix.\n",
      "Computing the msd similarity matrix...\n",
      "Done computing similarity matrix.\n",
      "Computing the msd similarity matrix...\n",
      "Done computing similarity matrix.\n",
      "Computing the msd similarity matrix...\n",
      "Done computing similarity matrix.\n",
      "Computing the msd similarity matrix...\n",
      "Done computing similarity matrix.\n",
      "Computing the msd similarity matrix...\n",
      "Done computing similarity matrix.\n",
      "Computing the msd similarity matrix...\n",
      "Done computing similarity matrix.\n",
      "Computing the msd similarity matrix...\n",
      "Done computing similarity matrix.\n",
      "Computing the msd similarity matrix...\n",
      "Done computing similarity matrix.\n",
      "Computing the msd similarity matrix...\n",
      "Done computing similarity matrix.\n",
      "Computing the msd similarity matrix...\n",
      "Done computing similarity matrix.\n",
      "Computing the msd similarity matrix...\n",
      "Done computing similarity matrix.\n",
      "Computing the msd similarity matrix...\n",
      "Done computing similarity matrix.\n",
      "Computing the msd similarity matrix...\n",
      "Done computing similarity matrix.\n",
      "Computing the msd similarity matrix...\n",
      "Done computing similarity matrix.\n",
      "Computing the msd similarity matrix...\n",
      "Done computing similarity matrix.\n",
      "Computing the msd similarity matrix...\n",
      "Done computing similarity matrix.\n",
      "Computing the msd similarity matrix...\n",
      "Done computing similarity matrix.\n",
      "Computing the msd similarity matrix...\n",
      "Done computing similarity matrix.\n",
      "Computing the msd similarity matrix...\n",
      "Done computing similarity matrix.\n",
      "Computing the msd similarity matrix...\n",
      "Done computing similarity matrix.\n",
      "Computing the msd similarity matrix...\n",
      "Done computing similarity matrix.\n",
      "Computing the msd similarity matrix...\n",
      "Done computing similarity matrix.\n",
      "Computing the msd similarity matrix...\n",
      "Done computing similarity matrix.\n",
      "Computing the msd similarity matrix...\n",
      "Done computing similarity matrix.\n",
      "Computing the msd similarity matrix...\n",
      "Done computing similarity matrix.\n",
      "Computing the msd similarity matrix...\n",
      "Done computing similarity matrix.\n",
      "Computing the msd similarity matrix...\n",
      "Done computing similarity matrix.\n",
      "Computing the msd similarity matrix...\n",
      "Done computing similarity matrix.\n",
      "Computing the msd similarity matrix...\n",
      "Done computing similarity matrix.\n",
      "Computing the msd similarity matrix...\n",
      "Done computing similarity matrix.\n",
      "Computing the msd similarity matrix...\n",
      "Done computing similarity matrix.\n",
      "Computing the msd similarity matrix...\n",
      "Done computing similarity matrix.\n",
      "Computing the msd similarity matrix...\n",
      "Done computing similarity matrix.\n",
      "Computing the msd similarity matrix...\n",
      "Done computing similarity matrix.\n",
      "Computing the msd similarity matrix...\n",
      "Done computing similarity matrix.\n",
      "Computing the msd similarity matrix...\n",
      "Done computing similarity matrix.\n",
      "Computing the msd similarity matrix...\n",
      "Done computing similarity matrix.\n",
      "Computing the msd similarity matrix...\n",
      "Done computing similarity matrix.\n",
      "Computing the msd similarity matrix...\n",
      "Done computing similarity matrix.\n",
      "Computing the msd similarity matrix...\n",
      "Done computing similarity matrix.\n",
      "Computing the msd similarity matrix...\n",
      "Done computing similarity matrix.\n",
      "Computing the msd similarity matrix...\n",
      "Done computing similarity matrix.\n",
      "Computing the msd similarity matrix...\n",
      "Done computing similarity matrix.\n",
      "Computing the msd similarity matrix...\n",
      "Done computing similarity matrix.\n",
      "Computing the msd similarity matrix...\n",
      "Done computing similarity matrix.\n",
      "Computing the msd similarity matrix...\n",
      "Done computing similarity matrix.\n",
      "Computing the msd similarity matrix...\n",
      "Done computing similarity matrix.\n",
      "Computing the msd similarity matrix...\n",
      "Done computing similarity matrix.\n",
      "Computing the msd similarity matrix...\n",
      "Done computing similarity matrix.\n",
      "Computing the msd similarity matrix...\n",
      "Done computing similarity matrix.\n",
      "Computing the msd similarity matrix...\n",
      "Done computing similarity matrix.\n",
      "Computing the msd similarity matrix...\n",
      "Done computing similarity matrix.\n",
      "Computing the msd similarity matrix...\n",
      "Done computing similarity matrix.\n",
      "Computing the msd similarity matrix...\n",
      "Done computing similarity matrix.\n",
      "Computing the msd similarity matrix...\n",
      "Done computing similarity matrix.\n",
      "Computing the msd similarity matrix...\n",
      "Done computing similarity matrix.\n",
      "{'rmse': 2.521626740374463}\n",
      "{'rmse': {'n_factors': 50, 'n_epochs': 20, 'lr_all': 0.005, 'reg_all': 0.02}}\n",
      "{'rmse': <surprise.prediction_algorithms.knns.KNNWithMeans object at 0x7f00ddd53150>}\n",
      "{'rmse': 2.347777122823267}\n",
      "{'rmse': {'n_factors': 100, 'n_epochs': 30, 'lr_all': 0.01, 'reg_all': 0.1}}\n",
      "{'rmse': <surprise.prediction_algorithms.matrix_factorization.SVDpp object at 0x7f00ddd93610>}\n",
      "Computing the msd similarity matrix...\n",
      "Done computing similarity matrix.\n",
      "Computing the msd similarity matrix...\n",
      "Done computing similarity matrix.\n",
      "Computing the msd similarity matrix...\n",
      "Done computing similarity matrix.\n",
      "Computing the msd similarity matrix...\n",
      "Done computing similarity matrix.\n",
      "Computing the msd similarity matrix...\n",
      "Done computing similarity matrix.\n",
      "Computing the msd similarity matrix...\n",
      "Done computing similarity matrix.\n",
      "Computing the msd similarity matrix...\n",
      "Done computing similarity matrix.\n",
      "Computing the msd similarity matrix...\n",
      "Done computing similarity matrix.\n",
      "Computing the msd similarity matrix...\n",
      "Done computing similarity matrix.\n",
      "Computing the msd similarity matrix...\n",
      "Done computing similarity matrix.\n",
      "Computing the msd similarity matrix...\n",
      "Done computing similarity matrix.\n",
      "Computing the msd similarity matrix...\n",
      "Done computing similarity matrix.\n",
      "Computing the msd similarity matrix...\n",
      "Done computing similarity matrix.\n",
      "Computing the msd similarity matrix...\n",
      "Done computing similarity matrix.\n",
      "Computing the msd similarity matrix...\n",
      "Done computing similarity matrix.\n",
      "Computing the msd similarity matrix...\n",
      "Done computing similarity matrix.\n",
      "Computing the msd similarity matrix...\n",
      "Done computing similarity matrix.\n",
      "Computing the msd similarity matrix...\n",
      "Done computing similarity matrix.\n",
      "Computing the msd similarity matrix...\n",
      "Done computing similarity matrix.\n",
      "Computing the msd similarity matrix...\n",
      "Done computing similarity matrix.\n",
      "Computing the msd similarity matrix...\n",
      "Done computing similarity matrix.\n",
      "Computing the msd similarity matrix...\n",
      "Done computing similarity matrix.\n",
      "Computing the msd similarity matrix...\n",
      "Done computing similarity matrix.\n",
      "Computing the msd similarity matrix...\n",
      "Done computing similarity matrix.\n",
      "Computing the msd similarity matrix...\n",
      "Done computing similarity matrix.\n",
      "Computing the msd similarity matrix...\n",
      "Done computing similarity matrix.\n",
      "Computing the msd similarity matrix...\n",
      "Done computing similarity matrix.\n",
      "Computing the msd similarity matrix...\n",
      "Done computing similarity matrix.\n",
      "Computing the msd similarity matrix...\n",
      "Done computing similarity matrix.\n",
      "Computing the msd similarity matrix...\n",
      "Done computing similarity matrix.\n",
      "Computing the msd similarity matrix...\n",
      "Done computing similarity matrix.\n",
      "Computing the msd similarity matrix...\n",
      "Done computing similarity matrix.\n",
      "Computing the msd similarity matrix...\n",
      "Done computing similarity matrix.\n",
      "Computing the msd similarity matrix...\n",
      "Done computing similarity matrix.\n",
      "Computing the msd similarity matrix...\n",
      "Done computing similarity matrix.\n",
      "Computing the msd similarity matrix...\n",
      "Done computing similarity matrix.\n",
      "Computing the msd similarity matrix...\n",
      "Done computing similarity matrix.\n",
      "Computing the msd similarity matrix...\n",
      "Done computing similarity matrix.\n",
      "Computing the msd similarity matrix...\n",
      "Done computing similarity matrix.\n",
      "Computing the msd similarity matrix...\n",
      "Done computing similarity matrix.\n",
      "Computing the msd similarity matrix...\n",
      "Done computing similarity matrix.\n",
      "Computing the msd similarity matrix...\n",
      "Done computing similarity matrix.\n",
      "Computing the msd similarity matrix...\n",
      "Done computing similarity matrix.\n",
      "Computing the msd similarity matrix...\n",
      "Done computing similarity matrix.\n",
      "Computing the msd similarity matrix...\n",
      "Done computing similarity matrix.\n",
      "Computing the msd similarity matrix...\n",
      "Done computing similarity matrix.\n",
      "Computing the msd similarity matrix...\n",
      "Done computing similarity matrix.\n",
      "Computing the msd similarity matrix...\n",
      "Done computing similarity matrix.\n",
      "Computing the msd similarity matrix...\n",
      "Done computing similarity matrix.\n",
      "Computing the msd similarity matrix...\n",
      "Done computing similarity matrix.\n",
      "Computing the msd similarity matrix...\n",
      "Done computing similarity matrix.\n",
      "Computing the msd similarity matrix...\n",
      "Done computing similarity matrix.\n",
      "Computing the msd similarity matrix...\n",
      "Done computing similarity matrix.\n",
      "Computing the msd similarity matrix...\n",
      "Done computing similarity matrix.\n",
      "Computing the msd similarity matrix...\n",
      "Done computing similarity matrix.\n",
      "Computing the msd similarity matrix...\n",
      "Done computing similarity matrix.\n",
      "Computing the msd similarity matrix...\n",
      "Done computing similarity matrix.\n",
      "Computing the msd similarity matrix...\n",
      "Done computing similarity matrix.\n",
      "Computing the msd similarity matrix...\n",
      "Done computing similarity matrix.\n",
      "Computing the msd similarity matrix...\n",
      "Done computing similarity matrix.\n",
      "Computing the msd similarity matrix...\n",
      "Done computing similarity matrix.\n",
      "Computing the msd similarity matrix...\n",
      "Done computing similarity matrix.\n",
      "Computing the msd similarity matrix...\n",
      "Done computing similarity matrix.\n",
      "Computing the msd similarity matrix...\n",
      "Done computing similarity matrix.\n",
      "Computing the msd similarity matrix...\n",
      "Done computing similarity matrix.\n",
      "Computing the msd similarity matrix...\n",
      "Done computing similarity matrix.\n",
      "Computing the msd similarity matrix...\n",
      "Done computing similarity matrix.\n",
      "Computing the msd similarity matrix...\n",
      "Done computing similarity matrix.\n",
      "Computing the msd similarity matrix...\n",
      "Done computing similarity matrix.\n",
      "Computing the msd similarity matrix...\n",
      "Done computing similarity matrix.\n",
      "Computing the msd similarity matrix...\n",
      "Done computing similarity matrix.\n",
      "Computing the msd similarity matrix...\n",
      "Done computing similarity matrix.\n",
      "{'rmse': 2.5708162555639187}\n",
      "{'rmse': {'n_factors': 50, 'n_epochs': 20, 'lr_all': 0.005, 'reg_all': 0.02}}\n",
      "{'rmse': <surprise.prediction_algorithms.knns.KNNWithZScore object at 0x7f00dbcc5f10>}\n"
     ]
    }
   ],
   "source": [
    "algo = [SVD, KNNBasic, KNNWithMeans, SVDpp, KNNWithZScore]\n",
    "param_grid = {'n_factors':[50,100,150],'n_epochs':[20,30],  'lr_all':[0.005,0.01],'reg_all':[0.02,0.1]}\n",
    "\n",
    "for i in algo:\n",
    "    gs = GridSearchCV(i, param_grid, measures=['rmse'], cv=3)\n",
    "    gs.fit(data)\n",
    "    params = gs.best_params['rmse']\n",
    "#svdtuned = SVD(n_factors=params['n_factors'], n_epochs=params['n_epochs'],lr_all=params['lr_all'], reg_all=params['reg_all'])\n",
    "\n",
    "    print(gs.best_score)\n",
    "    print(gs.best_params)\n",
    "    print(gs.best_estimator)\n",
    "    "
   ]
  },
  {
   "cell_type": "markdown",
   "metadata": {},
   "source": [
    "The gridsearchCV did not make any difference either and we conclude that the cross-validation SVD model was the best RMSE based model."
   ]
  },
  {
   "cell_type": "code",
   "execution_count": null,
   "metadata": {},
   "outputs": [],
   "source": []
  },
  {
   "cell_type": "code",
   "execution_count": null,
   "metadata": {},
   "outputs": [],
   "source": []
  },
  {
   "cell_type": "code",
   "execution_count": null,
   "metadata": {},
   "outputs": [],
   "source": []
  },
  {
   "cell_type": "code",
   "execution_count": null,
   "metadata": {},
   "outputs": [],
   "source": []
  }
 ],
 "metadata": {
  "kernelspec": {
   "display_name": "Python 3",
   "language": "python",
   "name": "python3"
  },
  "language_info": {
   "codemirror_mode": {
    "name": "ipython",
    "version": 3
   },
   "file_extension": ".py",
   "mimetype": "text/x-python",
   "name": "python",
   "nbconvert_exporter": "python",
   "pygments_lexer": "ipython3",
   "version": "3.8.8"
  }
 },
 "nbformat": 4,
 "nbformat_minor": 4
}
